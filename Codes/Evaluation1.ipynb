{
 "cells": [
  {
   "cell_type": "markdown",
   "metadata": {},
   "source": [
    "# Regression on Mushroom Dataset"
   ]
  },
  {
   "cell_type": "code",
   "execution_count": 1,
   "metadata": {},
   "outputs": [],
   "source": [
    "import numpy as np\n",
    "import pandas as pd\n",
    "import math\n",
    "import matplotlib.pyplot as plt\n",
    "import warnings\n",
    "warnings.filterwarnings(\"ignore\")"
   ]
  },
  {
   "cell_type": "code",
   "execution_count": 2,
   "metadata": {},
   "outputs": [],
   "source": [
    "#reading csv file\n",
    "mushroom = pd.read_csv(\"mushrooms.csv\")"
   ]
  },
  {
   "cell_type": "code",
   "execution_count": 3,
   "metadata": {},
   "outputs": [],
   "source": [
    "column_list = list(mushroom.columns)"
   ]
  },
  {
   "cell_type": "code",
   "execution_count": 4,
   "metadata": {},
   "outputs": [
    {
     "name": "stdout",
     "output_type": "stream",
     "text": [
      "Data before cleaning : 8124\n",
      "Data after cleaning : 5644\n"
     ]
    }
   ],
   "source": [
    "# Data cleaning\n",
    "print(\"Data before cleaning :\",len(mushroom))\n",
    "for column_i in column_list:\n",
    "    mushroom = mushroom.drop(mushroom.index[mushroom[column_i].isin(['?'])])\n",
    "print(\"Data after cleaning :\",len(mushroom))"
   ]
  },
  {
   "cell_type": "code",
   "execution_count": 5,
   "metadata": {},
   "outputs": [],
   "source": [
    "column_list.remove('class')"
   ]
  },
  {
   "cell_type": "code",
   "execution_count": 6,
   "metadata": {},
   "outputs": [],
   "source": [
    "def normalise_column(x):\n",
    "    t = dic[x]\n",
    "    norm = (t-minimum)/maximum\n",
    "    return norm"
   ]
  },
  {
   "cell_type": "code",
   "execution_count": 7,
   "metadata": {},
   "outputs": [],
   "source": [
    "for column_name in column_list:\n",
    "    list_state = list(set(list(mushroom[column_name])))\n",
    "    maximum = len(list_state)\n",
    "    minimum = 0\n",
    "    t = enumerate(list_state)\n",
    "    dic = {}\n",
    "    for i,j in t:\n",
    "        dic[j] = i\n",
    "    mushroom[column_name] = mushroom[column_name].apply(normalise_column)\n"
   ]
  },
  {
   "cell_type": "code",
   "execution_count": 8,
   "metadata": {},
   "outputs": [],
   "source": [
    "def classes(x):\n",
    "    return class_list[x]"
   ]
  },
  {
   "cell_type": "code",
   "execution_count": 9,
   "metadata": {},
   "outputs": [],
   "source": [
    "class_list = {}\n",
    "column_name = 'class'\n",
    "list_state = list(set(list(mushroom[column_name])))\n",
    "t = enumerate(list_state)\n",
    "for i,j in t:\n",
    "    class_list[j] = i\n",
    "mushroom[column_name] = mushroom[column_name].apply(classes)\n"
   ]
  },
  {
   "cell_type": "code",
   "execution_count": 10,
   "metadata": {},
   "outputs": [],
   "source": [
    "X = mushroom[column_list]\n",
    "Y = mushroom['class']"
   ]
  },
  {
   "cell_type": "code",
   "execution_count": 11,
   "metadata": {},
   "outputs": [],
   "source": [
    "from sklearn.model_selection import train_test_split\n",
    "from sklearn import metrics\n",
    "from sklearn.neural_network import MLPClassifier\n",
    "from sklearn.svm import SVC\n",
    "from sklearn.discriminant_analysis import QuadraticDiscriminantAnalysis\n",
    "from sklearn.tree import DecisionTreeClassifier"
   ]
  },
  {
   "cell_type": "code",
   "execution_count": 12,
   "metadata": {},
   "outputs": [],
   "source": [
    "names = ['MLP Classifier',\n",
    "         'Linear SVM',\n",
    "         'QDA',\n",
    "         'RBF SVM'\n",
    "        ]\n",
    "\n",
    "classifiers = [\n",
    "    MLPClassifier(alpha=1),\n",
    "    SVC(kernel=\"linear\", C=0.025),\n",
    "    QuadraticDiscriminantAnalysis(),\n",
    "    SVC(gamma=2, C=1)\n",
    "]"
   ]
  },
  {
   "cell_type": "code",
   "execution_count": 13,
   "metadata": {},
   "outputs": [
    {
     "name": "stdout",
     "output_type": "stream",
     "text": [
      "MLP Classifier Done\n",
      "Linear SVM Done\n",
      "QDA Done\n",
      "RBF SVM Done\n"
     ]
    }
   ],
   "source": [
    "accuracies = {}\n",
    "for i in names:\n",
    "    accuracies[i] = []\n",
    "for name, clf in zip(names, classifiers):\n",
    "    for i in range(99,0,-1):\n",
    "        X_train, X_test, Y_train, Y_test = train_test_split(X, Y, test_size=(i/100), random_state=42)\n",
    "        clf.fit(X_train, Y_train)\n",
    "        train_score = clf.score(X_train, Y_train)\n",
    "        accuracies[name].append(train_score)\n",
    "    print(name,\"Done\")"
   ]
  },
  {
   "cell_type": "code",
   "execution_count": 14,
   "metadata": {},
   "outputs": [],
   "source": [
    "def plot_results(names, result_dict):\n",
    "    acc = []\n",
    "\n",
    "    plot_name = names + ' Training Accuracy'\n",
    "        \n",
    "    acc = result_dict[names]\n",
    "    \n",
    "    x = range(len(acc))\n",
    "\n",
    "    plt.plot(x, acc)\n",
    "    plt.axis([0, 100, 0, 1.1]) \n",
    "    plt.xlabel('Train Data Size')\n",
    "    plt.ylabel('Accuracy')\n",
    "    plt.title(plot_name)\n",
    "    plt.show()"
   ]
  },
  {
   "cell_type": "code",
   "execution_count": 15,
   "metadata": {},
   "outputs": [
    {
     "data": {
      "image/png": "[encoded data removed]",
      "text/plain": [
       "<Figure size 432x288 with 1 Axes>"
      ]
     },
     "metadata": {
      "needs_background": "light"
     },
     "output_type": "display_data"
    }
   ],
   "source": [
    "plot_results(names[0], accuracies)"
   ]
  },
  {
   "cell_type": "code",
   "execution_count": 16,
   "metadata": {},
   "outputs": [
    {
     "data": {
      "image/png": "[encoded data removed]",
      "text/plain": [
       "<Figure size 432x288 with 1 Axes>"
      ]
     },
     "metadata": {
      "needs_background": "light"
     },
     "output_type": "display_data"
    }
   ],
   "source": [
    "plot_results(names[1], accuracies)"
   ]
  },
  {
   "cell_type": "code",
   "execution_count": 17,
   "metadata": {},
   "outputs": [
    {
     "data": {
      "image/png": "[encoded data removed]",
      "text/plain": [
       "<Figure size 432x288 with 1 Axes>"
      ]
     },
     "metadata": {
      "needs_background": "light"
     },
     "output_type": "display_data"
    }
   ],
   "source": [
    "plot_results(names[2], accuracies)"
   ]
  },
  {
   "cell_type": "code",
   "execution_count": 18,
   "metadata": {},
   "outputs": [
    {
     "data": {
      "image/png": "[encoded data removed]",
      "text/plain": [
       "<Figure size 432x288 with 1 Axes>"
      ]
     },
     "metadata": {
      "needs_background": "light"
     },
     "output_type": "display_data"
    }
   ],
   "source": [
    "plot_results(names[3], accuracies)"
   ]
  },
  {
   "cell_type": "code",
   "execution_count": 19,
   "metadata": {},
   "outputs": [],
   "source": [
    "def max_data_required(names,accuracies):\n",
    "    maximum = {}\n",
    "    for i in names:\n",
    "        maximum[i] = max(accuracies[i]) - 0.001\n",
    "    for i in names:\n",
    "        temp = 0\n",
    "        for j in range(0,len(accuracies[i])):\n",
    "            if maximum[i]<=accuracies[i][j]:\n",
    "                temp=j+1\n",
    "                break\n",
    "        print(\"Training Data Required for \"+i+\" is :\",str(temp)+'%')"
   ]
  },
  {
   "cell_type": "code",
   "execution_count": 20,
   "metadata": {},
   "outputs": [
    {
     "name": "stdout",
     "output_type": "stream",
     "text": [
      "Training Data Required for MLP Classifier is : 49%\n",
      "Training Data Required for Linear SVM is : 96%\n",
      "Training Data Required for QDA is : 1%\n",
      "Training Data Required for RBF SVM is : 1%\n"
     ]
    }
   ],
   "source": [
    "max_data_required(names,accuracies)"
   ]
  },
  {
   "cell_type": "code",
   "execution_count": null,
   "metadata": {},
   "outputs": [],
   "source": []
  }
 ],
 "metadata": {
  "kernelspec": {
   "display_name": "Python 3",
   "language": "python",
   "name": "python3"
  },
  "language_info": {
   "codemirror_mode": {
    "name": "ipython",
    "version": 3
   },
   "file_extension": ".py",
   "mimetype": "text/x-python",
   "name": "python",
   "nbconvert_exporter": "python",
   "pygments_lexer": "ipython3",
   "version": "3.7.1"
  }
 },
 "nbformat": 4,
 "nbformat_minor": 2
}
