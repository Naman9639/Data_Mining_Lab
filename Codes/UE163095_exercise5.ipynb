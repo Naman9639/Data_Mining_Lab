{
 "cells": [
  {
   "cell_type": "markdown",
   "metadata": {
    "colab_type": "text",
    "id": "fNlxEZ5m_l3s"
   },
   "source": [
    "Question 1"
   ]
  },
  {
   "cell_type": "code",
   "execution_count": 1,
   "metadata": {
    "colab": {},
    "colab_type": "code",
    "id": "xgXpYLhS_hDx"
   },
   "outputs": [],
   "source": [
    "import numpy as np"
   ]
  },
  {
   "cell_type": "code",
   "execution_count": 2,
   "metadata": {
    "colab": {
     "base_uri": "https://localhost:8080/",
     "height": 52
    },
    "colab_type": "code",
    "id": "MB1baNFP-flC",
    "outputId": "c3f9cd3a-be83-43f1-88b8-2c8f5bec4531"
   },
   "outputs": [
    {
     "name": "stdout",
     "output_type": "stream",
     "text": [
      "[0.62759148 0.35855737 0.88879057 0.1665033  0.11660222 0.56810557\n",
      " 0.93145015 0.38084904]\n"
     ]
    }
   ],
   "source": [
    "a = np.random.rand(8)\n",
    "print(a)"
   ]
  },
  {
   "cell_type": "code",
   "execution_count": 3,
   "metadata": {
    "colab": {},
    "colab_type": "code",
    "id": "VH6YmXEV-odm"
   },
   "outputs": [],
   "source": [
    "def findzero(arr):\n",
    "    for i in arr:\n",
    "        if i == 0:\n",
    "            print (\"Zero found\")\n",
    "            return\n",
    "    print(\"Zero not found\")\n",
    "    return"
   ]
  },
  {
   "cell_type": "code",
   "execution_count": 4,
   "metadata": {
    "colab": {
     "base_uri": "https://localhost:8080/",
     "height": 34
    },
    "colab_type": "code",
    "id": "S5emcOjY_EX8",
    "outputId": "c4f5963f-e692-492f-fa37-4251d24e164b"
   },
   "outputs": [
    {
     "name": "stdout",
     "output_type": "stream",
     "text": [
      "Zero not found\n"
     ]
    }
   ],
   "source": [
    "findzero(a)"
   ]
  },
  {
   "cell_type": "code",
   "execution_count": 5,
   "metadata": {
    "colab": {
     "base_uri": "https://localhost:8080/",
     "height": 34
    },
    "colab_type": "code",
    "id": "4ie_X-OU_ToF",
    "outputId": "3d46e717-ee76-45a2-b569-419c435ffe5b"
   },
   "outputs": [
    {
     "name": "stdout",
     "output_type": "stream",
     "text": [
      "Zero found\n"
     ]
    }
   ],
   "source": [
    "a[3] = 0\n",
    "findzero(a)"
   ]
  },
  {
   "cell_type": "markdown",
   "metadata": {
    "colab_type": "text",
    "id": "TYUAFrh9_txN"
   },
   "source": [
    "Question 2"
   ]
  },
  {
   "cell_type": "code",
   "execution_count": 6,
   "metadata": {
    "colab": {},
    "colab_type": "code",
    "id": "GMhPdZZa_XBI"
   },
   "outputs": [
    {
     "data": {
      "text/plain": [
       "array([68.45777202, 43.30261073, 65.8543718 , 57.04600769, 18.99572794,\n",
       "       99.15404232, 89.9612889 , 29.50548257, 67.37966445, 82.42746232,\n",
       "       57.18737725, 42.95350619, 55.28074999, 11.58846079, 61.87126157])"
      ]
     },
     "execution_count": 6,
     "metadata": {},
     "output_type": "execute_result"
    }
   ],
   "source": [
    "score = np.random.rand(15)*100\n",
    "score"
   ]
  },
  {
   "cell_type": "code",
   "execution_count": 7,
   "metadata": {
    "colab": {},
    "colab_type": "code",
    "id": "HGymPG1vr8DM"
   },
   "outputs": [],
   "source": [
    "def meanMeadianMarks(marks):\n",
    "    #Index of students that failed\n",
    "    marks = np.around(marks, 2)\n",
    "    failindex = np.where(marks<=40)\n",
    "    #Removing marks of the students that failed\n",
    "    passed_marks = np.delete(marks, failindex)\n",
    "    print(passed_marks)\n",
    "    print(\"Median Marks :\",np.around(np.median(passed_marks),2))\n",
    "    print(\"Mean Marks:\", np.around(np.mean(passed_marks),2))"
   ]
  },
  {
   "cell_type": "code",
   "execution_count": 8,
   "metadata": {
    "colab": {},
    "colab_type": "code",
    "id": "YWbbtjFM_69u"
   },
   "outputs": [
    {
     "name": "stdout",
     "output_type": "stream",
     "text": [
      "[68.46 43.3  65.85 57.05 99.15 89.96 67.38 82.43 57.19 42.95 55.28 61.87]\n",
      "Median Marks : 63.86\n",
      "Mean Marks: 65.91\n"
     ]
    }
   ],
   "source": [
    "meanMeadianMarks(score)"
   ]
  },
  {
   "cell_type": "markdown",
   "metadata": {
    "colab_type": "text",
    "id": "TYUAFrh9_txN"
   },
   "source": [
    "Question 3"
   ]
  },
  {
   "cell_type": "code",
   "execution_count": 9,
   "metadata": {},
   "outputs": [
    {
     "name": "stdout",
     "output_type": "stream",
     "text": [
      "Student's Ages ['19' '20' '21' '19' '19']\n",
      "1999-08-15 Second\n",
      "1999-02-13 Third\n",
      "1997-08-12 Fourth\n",
      "2000-02-21 Second\n",
      "2000-01-14 Second\n"
     ]
    }
   ],
   "source": [
    "import numpy as np\n",
    "\n",
    "age_labels={'18':'First','19':'Second','20':'Third','21':'Fourth'}\n",
    "dob=np.array(['1999-08-15','1999-02-13','1997-08-12','2000-02-21','2000-01-14'],\n",
    "             dtype='datetime64')\n",
    "\n",
    "today=np.datetime64('2019-02-19')\n",
    "difference=[]\n",
    "for i in range(len(dob)):\n",
    "    difference.append(str((today-dob[i])/365).replace(' days',''))\n",
    "    d=np.array(difference)\n",
    "print(\"Student's Ages\",d)\n",
    "for index,i in enumerate(d):\n",
    "    if i in age_labels:\n",
    "        print(dob[index],age_labels[i])"
   ]
  },
  {
   "cell_type": "markdown",
   "metadata": {},
   "source": [
    "Question 4"
   ]
  },
  {
   "cell_type": "code",
   "execution_count": 11,
   "metadata": {},
   "outputs": [
    {
     "name": "stdout",
     "output_type": "stream",
     "text": [
      "2d array before sorting : \n",
      "[[ 5  2 29]\n",
      " [10 22 12]\n",
      " [17  8  7]]\n",
      "2d array after sorting by column : \n",
      "[[ 5  2  7]\n",
      " [10  8 12]\n",
      " [17 22 29]]\n"
     ]
    }
   ],
   "source": [
    "import numpy as np\n",
    "arr=np.array([[5,2,29],[10,22,12],[17,8,7]])\n",
    "\n",
    "def sorting(arr):\n",
    "  sorted_arr=np.sort(arr,axis=0)\n",
    "  print(\"2d array after sorting by column : \")\n",
    "  print(sorted_arr)\n",
    "  \n",
    "print(\"2d array before sorting : \")\n",
    "print(arr)\n",
    "sorting(arr)"
   ]
  },
  {
   "cell_type": "markdown",
   "metadata": {},
   "source": [
    "Question 5"
   ]
  },
  {
   "cell_type": "code",
   "execution_count": 12,
   "metadata": {},
   "outputs": [
    {
     "name": "stdout",
     "output_type": "stream",
     "text": [
      "[2 3 2 2 1 4]\n",
      "one hot encoding is as follow\n",
      "[[0. 1. 0. 0.]\n",
      " [0. 0. 1. 0.]\n",
      " [0. 1. 0. 0.]\n",
      " [0. 1. 0. 0.]\n",
      " [1. 0. 0. 0.]\n",
      " [0. 0. 0. 1.]]\n"
     ]
    }
   ],
   "source": [
    "import numpy\n",
    "a=np.array([2, 3, 2, 2, 1, 4])\n",
    "lis=[]\n",
    "print(a)\n",
    "for index,i in enumerate(a):\n",
    "    b = np.zeros(4)\n",
    "    b[i-1]=1\n",
    "    lis.append(list(b))\n",
    "print(\"one hot encoding is as follow\")\n",
    "c=np.array(lis)\n",
    "print(c)"
   ]
  },
  {
   "cell_type": "markdown",
   "metadata": {},
   "source": [
    "Question 6"
   ]
  },
  {
   "cell_type": "code",
   "execution_count": 13,
   "metadata": {},
   "outputs": [
    {
     "name": "stdout",
     "output_type": "stream",
     "text": [
      "[ 4  3  5  8  2  0 12]\n"
     ]
    }
   ],
   "source": [
    "import numpy as np\n",
    "a=np.array([4,3,5,np.nan,8,np.nan,2,0,np.nan,12,np.nan])\n",
    "c=0\n",
    "\n",
    "for i in a:\n",
    "    if np.isnan(i)==True:\n",
    "        a=np.delete(a,c)\n",
    "    else:\n",
    "        c=c+1\n",
    "b=np.array(a,dtype='int')\n",
    "print(b)"
   ]
  },
  {
   "cell_type": "markdown",
   "metadata": {},
   "source": [
    "Question 7"
   ]
  },
  {
   "cell_type": "code",
   "execution_count": 14,
   "metadata": {},
   "outputs": [
    {
     "name": "stdout",
     "output_type": "stream",
     "text": [
      "Locations of local maximas are: \n",
      "[1, 4, 6]\n"
     ]
    }
   ],
   "source": [
    "import numpy as np\n",
    "arr=np.array([4, 5, 3, 7, 8, 2, 6, 0, 1])\n",
    "lis = []\n",
    "for i in range(1,len(arr)-1):\n",
    "  if(arr[i]>arr[i-1] and arr[i]>arr[i+1]):\n",
    "    lis.append(i)\n",
    "print(\"Locations of local maximas are: \")    \n",
    "print (lis)"
   ]
  },
  {
   "cell_type": "markdown",
   "metadata": {},
   "source": [
    "Question 8"
   ]
  },
  {
   "cell_type": "code",
   "execution_count": 15,
   "metadata": {},
   "outputs": [
    {
     "name": "stdout",
     "output_type": "stream",
     "text": [
      "Enter array values : 1 3 5 7 9 2 4 6 8 10 13 12 11 15\n",
      "Enter window size : 4\n",
      "Enter strides : 2\n",
      "2D matrix generated is :\n",
      "[[ 1  3  5  7]\n",
      " [ 5  7  9  2]\n",
      " [ 9  2  4  6]\n",
      " [ 4  6  8 10]\n",
      " [ 8 10 13 12]\n",
      " [13 12 11 15]]\n"
     ]
    }
   ],
   "source": [
    "def convert_2d(arr,w,s):\n",
    "    r = arr.shape[0]\n",
    "    a2d = []\n",
    "    for i in range(0,r-w+1,s):\n",
    "        a2d.append(arr[i:i+w])\n",
    "    a2d = np.array(a2d)\n",
    "    return a2d\n",
    "  \n",
    "arr = input(\"Enter array values : \").split()\n",
    "arr = np.array(arr,int)\n",
    "w = int(input(\"Enter window size : \"))\n",
    "s = int(input(\"Enter strides : \"))\n",
    "\n",
    "arr_2d = convert_2d(arr,w,s)\n",
    "d2 = np.mat(arr_2d)\n",
    "print(\"2D matrix generated is :\")\n",
    "print(d2)"
   ]
  },
  {
   "cell_type": "code",
   "execution_count": null,
   "metadata": {},
   "outputs": [],
   "source": []
  }
 ],
 "metadata": {
  "colab": {
   "collapsed_sections": [],
   "name": "UE163095_exercise5.ipynb",
   "provenance": [],
   "version": "0.3.2"
  },
  "kernelspec": {
   "display_name": "Python 3",
   "language": "python",
   "name": "python3"
  },
  "language_info": {
   "codemirror_mode": {
    "name": "ipython",
    "version": 3
   },
   "file_extension": ".py",
   "mimetype": "text/x-python",
   "name": "python",
   "nbconvert_exporter": "python",
   "pygments_lexer": "ipython3",
   "version": "3.7.1"
  }
 },
 "nbformat": 4,
 "nbformat_minor": 1
}
