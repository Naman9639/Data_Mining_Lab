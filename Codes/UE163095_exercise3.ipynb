{
 "cells": [
  {
   "cell_type": "markdown",
   "metadata": {},
   "source": [
    "# Question : \n",
    "## Sort records on the basis of Name, Age and Score"
   ]
  },
  {
   "cell_type": "code",
   "execution_count": 1,
   "metadata": {},
   "outputs": [],
   "source": [
    "records = [('Tom',19,80),\n",
    "           ('John',20,90),\n",
    "           ('Jony',17,91),\n",
    "           ('Jony',17,93),\n",
    "           ('Json',21,85)]"
   ]
  },
  {
   "cell_type": "code",
   "execution_count": 2,
   "metadata": {},
   "outputs": [
    {
     "name": "stdout",
     "output_type": "stream",
     "text": [
      "[('Tom', 19, 80), ('John', 20, 90), ('Jony', 17, 91), ('Jony', 17, 93), ('Json', 21, 85)]\n"
     ]
    }
   ],
   "source": [
    "print(records)"
   ]
  },
  {
   "cell_type": "code",
   "execution_count": 3,
   "metadata": {},
   "outputs": [],
   "source": [
    "from operator import itemgetter\n",
    "def prioritysort(rec):\n",
    "    rec = sorted(rec, key=itemgetter(2))\n",
    "    rec = sorted(rec, key=itemgetter(1))\n",
    "    rec = sorted(rec, key=itemgetter(0))\n",
    "    return rec"
   ]
  },
  {
   "cell_type": "code",
   "execution_count": 4,
   "metadata": {},
   "outputs": [],
   "source": [
    "sorted_rec = prioritysort(records)"
   ]
  },
  {
   "cell_type": "code",
   "execution_count": 5,
   "metadata": {},
   "outputs": [
    {
     "name": "stdout",
     "output_type": "stream",
     "text": [
      "[('John', 20, 90), ('Jony', 17, 91), ('Jony', 17, 93), ('Json', 21, 85), ('Tom', 19, 80)]\n"
     ]
    }
   ],
   "source": [
    "print(sorted_rec)"
   ]
  },
  {
   "cell_type": "markdown",
   "metadata": {},
   "source": [
    "# Question : \n",
    "## List with highest sum in list of lists"
   ]
  },
  {
   "cell_type": "code",
   "execution_count": 6,
   "metadata": {},
   "outputs": [],
   "source": [
    "listoflist = [[1,2,3],\n",
    "        [4,5,6],\n",
    "        [10,11,12],\n",
    "        [7,8,9]]"
   ]
  },
  {
   "cell_type": "code",
   "execution_count": 7,
   "metadata": {},
   "outputs": [
    {
     "name": "stdout",
     "output_type": "stream",
     "text": [
      "List : [10, 11, 12]\n",
      "Sum : 33\n"
     ]
    }
   ],
   "source": [
    "sum_val = 0\n",
    "for i in listoflist:\n",
    "    if sum_val < sum(i):\n",
    "        sum_val = sum(i)\n",
    "        listn = i.copy()\n",
    "print(\"List :\", listn)\n",
    "print(\"Sum :\",sum_val)"
   ]
  },
  {
   "cell_type": "markdown",
   "metadata": {},
   "source": [
    "# Question : \n",
    "## Check if list contains sublist"
   ]
  },
  {
   "cell_type": "code",
   "execution_count": 8,
   "metadata": {},
   "outputs": [],
   "source": [
    "search_list = [1,2,3,[4],[[4,5]],[2,6],8]"
   ]
  },
  {
   "cell_type": "code",
   "execution_count": 9,
   "metadata": {},
   "outputs": [],
   "source": [
    "def check_sublist(arr,sarr):\n",
    "    if sarr in arr:\n",
    "        return True\n",
    "    else:\n",
    "        for i in arr:\n",
    "            if type(i) == type(list()):\n",
    "                if check_sublist(i,sarr):\n",
    "                    return True\n",
    "    return False"
   ]
  },
  {
   "cell_type": "code",
   "execution_count": 10,
   "metadata": {},
   "outputs": [],
   "source": [
    "sub_list = 2"
   ]
  },
  {
   "cell_type": "code",
   "execution_count": 11,
   "metadata": {},
   "outputs": [
    {
     "name": "stdout",
     "output_type": "stream",
     "text": [
      "List : [1, 2, 3, [4], [[4, 5]], [2, 6], 8]\n",
      "Sublist :  2\n",
      "The sublist is in the list\n"
     ]
    }
   ],
   "source": [
    "print(\"List :\", search_list)\n",
    "print(\"Sublist : \",sub_list)\n",
    "if check_sublist(search_list, sub_list):\n",
    "    print(\"The sublist is in the list\")\n",
    "else:\n",
    "    print(\"The sublist is not in the list\")"
   ]
  },
  {
   "cell_type": "code",
   "execution_count": 12,
   "metadata": {},
   "outputs": [],
   "source": [
    "sub_list = [4,5]"
   ]
  },
  {
   "cell_type": "code",
   "execution_count": 13,
   "metadata": {},
   "outputs": [
    {
     "name": "stdout",
     "output_type": "stream",
     "text": [
      "List : [1, 2, 3, [4], [[4, 5]], [2, 6], 8]\n",
      "Sublist :  [4, 5]\n",
      "The sublist is in the list\n"
     ]
    }
   ],
   "source": [
    "print(\"List :\", search_list)\n",
    "print(\"Sublist : \",sub_list)\n",
    "if check_sublist(search_list, sub_list):\n",
    "    print(\"The sublist is in the list\")\n",
    "else:\n",
    "    print(\"The sublist is not in the list\")"
   ]
  },
  {
   "cell_type": "code",
   "execution_count": 14,
   "metadata": {},
   "outputs": [],
   "source": [
    "sub_list = [2,5]"
   ]
  },
  {
   "cell_type": "code",
   "execution_count": 15,
   "metadata": {},
   "outputs": [
    {
     "name": "stdout",
     "output_type": "stream",
     "text": [
      "List : [1, 2, 3, [4], [[4, 5]], [2, 6], 8]\n",
      "Sublist :  [2, 5]\n",
      "The sublist is not in the list\n"
     ]
    }
   ],
   "source": [
    "print(\"List :\", search_list)\n",
    "print(\"Sublist : \",sub_list)\n",
    "if check_sublist(search_list, sub_list):\n",
    "    print(\"The sublist is in the list\")\n",
    "else:\n",
    "    print(\"The sublist is not in the list\")"
   ]
  },
  {
   "cell_type": "code",
   "execution_count": null,
   "metadata": {},
   "outputs": [],
   "source": []
  }
 ],
 "metadata": {
  "kernelspec": {
   "display_name": "Python 3",
   "language": "python",
   "name": "python3"
  },
  "language_info": {
   "codemirror_mode": {
    "name": "ipython",
    "version": 3
   },
   "file_extension": ".py",
   "mimetype": "text/x-python",
   "name": "python",
   "nbconvert_exporter": "python",
   "pygments_lexer": "ipython3",
   "version": "3.7.1"
  }
 },
 "nbformat": 4,
 "nbformat_minor": 2
}
