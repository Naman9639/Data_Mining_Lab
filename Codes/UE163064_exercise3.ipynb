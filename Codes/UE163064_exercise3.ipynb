{
 "cells": [
  {
   "cell_type": "markdown",
   "metadata": {},
   "source": [
    "# Q1.\n"
   ]
  },
  {
   "cell_type": "markdown",
   "metadata": {},
   "source": [
    "You are required to write a program to sort the (name, age, height) tuples by ascending order where name is string, age and height are numbers. The tuples are input by console. The sort criteria is: 1: Sort based on name; 2: Then sort based on age; 3: Then sort by score. The priority is that name > age > score."
   ]
  },
  {
   "cell_type": "code",
   "execution_count": 1,
   "metadata": {},
   "outputs": [
    {
     "name": "stdout",
     "output_type": "stream",
     "text": [
      "Enter the number of persons which you want to add: 5\n",
      "Tom,19,80\n",
      "John,20,90\n",
      "Jony,17,91\n",
      "Jony,17,93\n",
      "Json,21,85\n",
      "('John', '20', '90')\n",
      "('Jony', '17', '91')\n",
      "('Jony', '17', '93')\n",
      "('Json', '21', '85')\n",
      "('Tom', '19', '80')\n"
     ]
    }
   ],
   "source": [
    "no_of_details = input(\"Enter the number of persons which you want to add: \")\n",
    "list_details = []\n",
    "for i in range(no_of_details):\n",
    "    details = tuple(map(str , raw_input().split(',')))\n",
    "    list_details.append(details)\n",
    "list_details.sort(key = lambda l: (l[0], l[1], l[2]))\n",
    "for i in list_details:\n",
    "    print(i)"
   ]
  },
  {
   "cell_type": "markdown",
   "metadata": {},
   "source": [
    "# Q2."
   ]
  },
  {
   "cell_type": "markdown",
   "metadata": {},
   "source": [
    "Write a Python program to find the list in a list of lists whose sum of elements is the highest. "
   ]
  },
  {
   "cell_type": "code",
   "execution_count": 2,
   "metadata": {},
   "outputs": [
    {
     "name": "stdout",
     "output_type": "stream",
     "text": [
      "Enter the length of list: 4\n",
      "Enter the list: 1,2,3\n",
      "Enter the list: 4,5,6\n",
      "Enter the list: 10,11,12\n",
      "Enter the list: 7,8,9\n",
      "\n",
      "\n",
      "[[1, 2, 3], [4, 5, 6], [10, 11, 12], [7, 8, 9]]\n",
      "The list having the max sum is: \n",
      "[10, 11, 12]\n"
     ]
    }
   ],
   "source": [
    "a = input(\"Enter the length of list: \")\n",
    "c = []\n",
    "for i in range(a):\n",
    "    b = list(map(int , raw_input(\"Enter the list: \").split(',')))\n",
    "    c.append(b)\n",
    "print('\\n')\n",
    "print(c)\n",
    "print(\"The list having the max sum is: \")\n",
    "print(max(c, key = sum))"
   ]
  },
  {
   "cell_type": "markdown",
   "metadata": {},
   "source": [
    "# Q3.\n"
   ]
  },
  {
   "cell_type": "markdown",
   "metadata": {},
   "source": [
    "Write a Python program to check whether a list contains a sublist"
   ]
  },
  {
   "cell_type": "code",
   "execution_count": 3,
   "metadata": {},
   "outputs": [
    {
     "name": "stdout",
     "output_type": "stream",
     "text": [
      "Enter a list [1,2,3,4,5,6]\n",
      "('Main list is ', [1, 2, 3, 4, 5, 6])\n",
      "Enter a list [[4,5]]\n",
      "('Sub list is ', [[4, 5]])\n",
      "Sublist not present.\n"
     ]
    }
   ],
   "source": [
    "def input_list():\n",
    "    ip_string = raw_input('Enter a list ')\n",
    "    ip_list = eval(ip_string)\n",
    "    return ip_list\n",
    "\n",
    "def _find_elem_comp(main_list, sub_list):\n",
    "    return all(x in main_list for x in sub_list)\n",
    "\n",
    "def find_sublist(main_list, sub_list):\n",
    "    if _find_elem_comp(main_list, sub_list):\n",
    "        return True\n",
    "    else:\n",
    "        for item in main_list:\n",
    "            if type(item) == list:\n",
    "                res = find_sublist(item, sub_list)\n",
    "                if res:\n",
    "                    return True\n",
    "        return False\n",
    "\n",
    "main_list = input_list()\n",
    "print('Main list is ', main_list)\n",
    "sub_list = input_list()\n",
    "print('Sub list is ', sub_list)\n",
    "res = find_sublist(main_list, sub_list)\n",
    "if res:\n",
    "    print('Sublist present.')\n",
    "else:\n",
    "    print('Sublist not present.')"
   ]
  },
  {
   "cell_type": "code",
   "execution_count": null,
   "metadata": {
    "collapsed": true
   },
   "outputs": [],
   "source": []
  }
 ],
 "metadata": {
  "kernelspec": {
   "display_name": "Python 2",
   "language": "python",
   "name": "python2"
  },
  "language_info": {
   "codemirror_mode": {
    "name": "ipython",
    "version": 2
   },
   "file_extension": ".py",
   "mimetype": "text/x-python",
   "name": "python",
   "nbconvert_exporter": "python",
   "pygments_lexer": "ipython2",
   "version": "2.7.15"
  }
 },
 "nbformat": 4,
 "nbformat_minor": 2
}
