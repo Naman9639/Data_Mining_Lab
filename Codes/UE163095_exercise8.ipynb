{
 "cells": [
  {
   "cell_type": "code",
   "execution_count": 1,
   "metadata": {},
   "outputs": [],
   "source": [
    "import numpy as np\n",
    "import pandas as pd\n",
    "import math"
   ]
  },
  {
   "cell_type": "code",
   "execution_count": 2,
   "metadata": {},
   "outputs": [],
   "source": [
    "#reading csv file\n",
    "college = pd.read_csv(\"Top 100 Private Colleges.2003.csv\")"
   ]
  },
  {
   "cell_type": "code",
   "execution_count": 3,
   "metadata": {},
   "outputs": [
    {
     "name": "stdout",
     "output_type": "stream",
     "text": [
      "Overall Rank                                      4\n",
      "School                           Swarthmore College\n",
      "State                                            PA\n",
      "Undergrad. Enrollment                          1479\n",
      "Admission Rate                                  24%\n",
      "*SAT or ACT                                  94/98%\n",
      "Student/faculty Ratio                             8\n",
      "4-year Grad. Rate                               86%\n",
      "6-year Grad. Rate                               92%\n",
      "Quality Rank                                      4\n",
      "Total Costs                                $38,676 \n",
      "Cost After Need-based Aid                  $17,386 \n",
      "Need Met                                       100%\n",
      "Aid From Grants                                 85%\n",
      "Cost After Non-Need-Based Aid              $11,404 \n",
      "Non-Need-Based Aid+                              2%\n",
      "Average Debt                               $12,759 \n",
      "Cost Rank                                        21\n",
      "Name: 3, dtype: object\n"
     ]
    }
   ],
   "source": [
    "print(college.loc[3])"
   ]
  },
  {
   "cell_type": "code",
   "execution_count": 4,
   "metadata": {},
   "outputs": [
    {
     "name": "stdout",
     "output_type": "stream",
     "text": [
      "Data after cleaning : 73\n"
     ]
    }
   ],
   "source": [
    "#removing columns having nan values\n",
    "column_list = college.columns\n",
    "for column_i in column_list:\n",
    "    college = college.drop(college.index[college[column_i].isin([np.nan])])\n",
    "print(\"Data after cleaning :\",len(college))"
   ]
  },
  {
   "cell_type": "markdown",
   "metadata": {},
   "source": [
    "# Normalisation"
   ]
  },
  {
   "cell_type": "code",
   "execution_count": 5,
   "metadata": {},
   "outputs": [],
   "source": [
    "#function for converting money value from string to float\n",
    "def removesymbolcurrency(x):\n",
    "    return float(x.split('$')[1].replace(\",\", \"\"))\n",
    "\n",
    "#function for converting percentage data from string to float\n",
    "def removesymbolpercent(x):\n",
    "    if x=='NA%':\n",
    "        return np.nan\n",
    "    if type(x) == float:\n",
    "        return x\n",
    "    return float(x.split('%')[0])\n",
    "\n",
    "#function for normalisation of columns data\n",
    "def normalisation(x):\n",
    "    if x==np.nan:\n",
    "        return x\n",
    "    return (float(x) - minimum)/maximum"
   ]
  },
  {
   "cell_type": "code",
   "execution_count": 6,
   "metadata": {},
   "outputs": [],
   "source": [
    "#cleaning admission rate data\n",
    "column_name = \"Admission Rate\"\n",
    "college[column_name] = college[column_name].apply(removesymbolpercent)\n",
    "\n",
    "#cleaning 4-year Grad. Rate data\n",
    "column_name = \"4-year Grad. Rate\"\n",
    "college[column_name] = college[column_name].apply(removesymbolpercent)\n",
    "\n",
    "#cleaning 6-year Grad. Rate data\n",
    "column_name = \"6-year Grad. Rate\"\n",
    "college[column_name] = college[column_name].apply(removesymbolpercent)\n",
    "\n",
    "#cleaning Total Costs data\n",
    "column_name = \"Total Costs\"\n",
    "college[column_name] = college[column_name].apply(removesymbolcurrency)\n",
    "\n",
    "#cleaning Cost After Need-based Aid data\n",
    "column_name = \"Cost After Need-based Aid\"\n",
    "college[column_name] = college[column_name].apply(removesymbolcurrency)\n",
    "\n",
    "#cleaning Need Met data\n",
    "column_name = \"Need Met\"\n",
    "college[column_name] = college[column_name].apply(removesymbolpercent)\n",
    "\n",
    "#cleaning Aid From Grants data\n",
    "column_name = \"Aid From Grants\"\n",
    "college[column_name] = college[column_name].apply(removesymbolpercent)\n",
    "\n",
    "#cleaning Cost After Non-Need-Based Aid data\n",
    "column_name = \"Cost After Non-Need-Based Aid\"\n",
    "college[column_name] = college[column_name].apply(removesymbolcurrency)\n",
    "\n",
    "#cleaning Non-Need-Based Aid+ data\n",
    "column_name = \"Non-Need-Based Aid+\"\n",
    "college[column_name] = college[column_name].apply(removesymbolpercent)\n",
    "\n",
    "#cleaning Average Debt data\n",
    "column_name = \"Average Debt\"\n",
    "college[column_name] = college[column_name].apply(removesymbolcurrency)\n",
    "\n"
   ]
  },
  {
   "cell_type": "code",
   "execution_count": 7,
   "metadata": {},
   "outputs": [],
   "source": [
    "#function for converting sat or act to sat data in new column\n",
    "def satconverter(x):\n",
    "    if '/' in x:\n",
    "        return float(x.split('/')[0].replace(\"*\",\"\"))\n",
    "    else:\n",
    "        return np.nan\n",
    "\n",
    "#function for converting sat or act to act data in new column\n",
    "def actconverter(x):\n",
    "    if '/' in x:\n",
    "        return float(x.split('/')[1].replace(\"%\", \"\").replace(\"*\",\"\"))\n",
    "    else:\n",
    "        return float(x.replace(\"%\",\"\"))"
   ]
  },
  {
   "cell_type": "code",
   "execution_count": 8,
   "metadata": {},
   "outputs": [],
   "source": [
    "college[\"SAT\"] = college[\"*SAT or ACT\"].apply(satconverter)\n",
    "college[\"ACT\"] = college[\"*SAT or ACT\"].apply(actconverter)"
   ]
  },
  {
   "cell_type": "code",
   "execution_count": 9,
   "metadata": {},
   "outputs": [
    {
     "name": "stdout",
     "output_type": "stream",
     "text": [
      "Data after cleaning : 59\n"
     ]
    }
   ],
   "source": [
    "#removing columns having nan values\n",
    "column_list = college.columns\n",
    "for column_i in column_list:\n",
    "    college = college.drop(college.index[college[column_i].isin([np.nan])])\n",
    "print(\"Data after cleaning :\",len(college))"
   ]
  },
  {
   "cell_type": "code",
   "execution_count": 10,
   "metadata": {},
   "outputs": [],
   "source": [
    "#undergrad enrollment normalisation\n",
    "column_name = \"Undergrad. Enrollment\"\n",
    "\n",
    "minimum = float(college[column_name].min())\n",
    "maximum = float(college[column_name].max())\n",
    "college[column_name] = college[column_name].apply(normalisation)"
   ]
  },
  {
   "cell_type": "code",
   "execution_count": 11,
   "metadata": {},
   "outputs": [],
   "source": [
    "#Admission Rate normalisation\n",
    "column_name = \"Admission Rate\"\n",
    "\n",
    "minimum = float(college[column_name].min())\n",
    "maximum = float(college[column_name].max())\n",
    "college[column_name] = college[column_name].apply(normalisation)"
   ]
  },
  {
   "cell_type": "code",
   "execution_count": 12,
   "metadata": {},
   "outputs": [],
   "source": [
    "#Student/faculty Ratio normalisation\n",
    "column_name = \"Student/faculty Ratio\"\n",
    "\n",
    "minimum = float(college[column_name].min())\n",
    "maximum = float(college[column_name].max())\n",
    "college[column_name] = college[column_name].apply(normalisation)"
   ]
  },
  {
   "cell_type": "code",
   "execution_count": 13,
   "metadata": {},
   "outputs": [],
   "source": [
    "#4-year Grad. Rate normalisation\n",
    "column_name = \"4-year Grad. Rate\"\n",
    "\n",
    "minimum = float(college[column_name].min())\n",
    "maximum = float(college[column_name].max())\n",
    "college[column_name] = college[column_name].apply(normalisation)"
   ]
  },
  {
   "cell_type": "code",
   "execution_count": 14,
   "metadata": {},
   "outputs": [],
   "source": [
    "#6-year Grad. Rate normalisation\n",
    "column_name = \"6-year Grad. Rate\"\n",
    "\n",
    "minimum = float(college[column_name].min())\n",
    "maximum = float(college[column_name].max())\n",
    "college[column_name] = college[column_name].apply(normalisation)"
   ]
  },
  {
   "cell_type": "code",
   "execution_count": 15,
   "metadata": {},
   "outputs": [],
   "source": [
    "#Total Costs normalisation\n",
    "column_name = \"Total Costs\"\n",
    "\n",
    "minimum = float(college[column_name].min())\n",
    "maximum = float(college[column_name].max())\n",
    "college[column_name] = college[column_name].apply(normalisation)"
   ]
  },
  {
   "cell_type": "code",
   "execution_count": 16,
   "metadata": {},
   "outputs": [],
   "source": [
    "#Cost After Need-based Aid normalisation\n",
    "column_name = \"Cost After Need-based Aid\"\n",
    "\n",
    "minimum = float(college[column_name].min())\n",
    "maximum = float(college[column_name].max())\n",
    "college[column_name] = college[column_name].apply(normalisation)"
   ]
  },
  {
   "cell_type": "code",
   "execution_count": 17,
   "metadata": {},
   "outputs": [],
   "source": [
    "#Need Met normalisation\n",
    "column_name = \"Need Met\"\n",
    "\n",
    "minimum = float(college[column_name].min())\n",
    "maximum = float(college[column_name].max())\n",
    "college[column_name] = college[column_name].apply(normalisation)"
   ]
  },
  {
   "cell_type": "code",
   "execution_count": 18,
   "metadata": {},
   "outputs": [],
   "source": [
    "#Aid From Grants normalisation\n",
    "column_name = \"Aid From Grants\"\n",
    "\n",
    "minimum = float(college[column_name].min())\n",
    "maximum = float(college[column_name].max())\n",
    "college[column_name] = college[column_name].apply(normalisation)"
   ]
  },
  {
   "cell_type": "code",
   "execution_count": 19,
   "metadata": {},
   "outputs": [],
   "source": [
    "#Cost After Non-Need-Based Aid normalisation\n",
    "column_name = \"Cost After Non-Need-Based Aid\"\n",
    "\n",
    "minimum = float(college[column_name].min())\n",
    "maximum = float(college[column_name].max())\n",
    "college[column_name] = college[column_name].apply(normalisation)"
   ]
  },
  {
   "cell_type": "code",
   "execution_count": 20,
   "metadata": {},
   "outputs": [],
   "source": [
    "#Non-Need-Based Aid+ normalisation\n",
    "column_name = \"Non-Need-Based Aid+\"\n",
    "\n",
    "minimum = float(college[column_name].min())\n",
    "maximum = float(college[column_name].max())\n",
    "college[column_name] = college[column_name].apply(normalisation)"
   ]
  },
  {
   "cell_type": "code",
   "execution_count": 21,
   "metadata": {},
   "outputs": [],
   "source": [
    "#Average Debt normalisation\n",
    "column_name = \"Average Debt\"\n",
    "\n",
    "minimum = float(college[column_name].min())\n",
    "maximum = float(college[column_name].max())\n",
    "college[column_name] = college[column_name].apply(normalisation)"
   ]
  },
  {
   "cell_type": "code",
   "execution_count": 22,
   "metadata": {},
   "outputs": [],
   "source": [
    "#SAT normalisation\n",
    "column_name = \"SAT\"\n",
    "\n",
    "minimum = float(college[column_name].min())\n",
    "maximum = float(college[column_name].max())\n",
    "college[column_name] = college[column_name].apply(normalisation)"
   ]
  },
  {
   "cell_type": "code",
   "execution_count": 23,
   "metadata": {},
   "outputs": [],
   "source": [
    "#ACT normalisation\n",
    "column_name = \"ACT\"\n",
    "\n",
    "minimum = float(college[column_name].min())\n",
    "maximum = float(college[column_name].max())\n",
    "college[column_name] = college[column_name].apply(normalisation)"
   ]
  },
  {
   "cell_type": "code",
   "execution_count": 24,
   "metadata": {
    "scrolled": true
   },
   "outputs": [],
   "source": [
    "college = college.drop(columns=['*SAT or ACT'])"
   ]
  },
  {
   "cell_type": "code",
   "execution_count": 25,
   "metadata": {},
   "outputs": [
    {
     "name": "stdout",
     "output_type": "stream",
     "text": [
      "Overall Rank                                      4\n",
      "School                           Swarthmore College\n",
      "State                                            PA\n",
      "Undergrad. Enrollment                     0.0724474\n",
      "Admission Rate                             0.128205\n",
      "Student/faculty Ratio                      0.294118\n",
      "4-year Grad. Rate                          0.966292\n",
      "6-year Grad. Rate                          0.252632\n",
      "Quality Rank                                      4\n",
      "Total Costs                                0.760363\n",
      "Cost After Need-based Aid                  0.411724\n",
      "Need Met                                        0.8\n",
      "Aid From Grants                                0.58\n",
      "Cost After Non-Need-Based Aid             0.0882829\n",
      "Non-Need-Based Aid+                            0.01\n",
      "Average Debt                               0.452174\n",
      "Cost Rank                                        21\n",
      "SAT                                            0.45\n",
      "ACT                                            0.43\n",
      "Name: 3, dtype: object\n"
     ]
    }
   ],
   "source": [
    "print(college.loc[3])"
   ]
  },
  {
   "cell_type": "markdown",
   "metadata": {},
   "source": [
    "# Information Gain"
   ]
  },
  {
   "cell_type": "code",
   "execution_count": 61,
   "metadata": {},
   "outputs": [],
   "source": [
    "#Columns without ranks\n",
    "column_list = ['Undergrad. Enrollment', 'Admission Rate', 'Student/faculty Ratio', '4-year Grad. Rate', \n",
    "               'Total Costs','Cost After Need-based Aid', 'Need Met', 'Aid From Grants',\n",
    "               'Cost After Non-Need-Based Aid', 'Non-Need-Based Aid+', 'Average Debt']"
   ]
  },
  {
   "cell_type": "code",
   "execution_count": 62,
   "metadata": {},
   "outputs": [],
   "source": [
    "#function for evaluating information\n",
    "def Information(freq_value):\n",
    "    inf = 0\n",
    "    sum_val = sum(freq_value)\n",
    "    for freq in freq_value:\n",
    "        prob = freq / sum_val\n",
    "        if prob != 0:\n",
    "            inf = inf - prob * math.log(prob, 2)\n",
    "    return inf"
   ]
  },
  {
   "cell_type": "code",
   "execution_count": 63,
   "metadata": {},
   "outputs": [],
   "source": [
    "#function for evaluating entropy\n",
    "def Entropy(prob, inf):\n",
    "    entropy_val = 0\n",
    "    for i in range(len(prob)):\n",
    "        entropy_val += prob[i] * inf[i]\n",
    "    return entropy_val"
   ]
  },
  {
   "cell_type": "code",
   "execution_count": 64,
   "metadata": {},
   "outputs": [],
   "source": [
    "state_count = college['State'].value_counts().tolist()"
   ]
  },
  {
   "cell_type": "code",
   "execution_count": 65,
   "metadata": {},
   "outputs": [
    {
     "name": "stdout",
     "output_type": "stream",
     "text": [
      "Information =  4.045413340232901\n"
     ]
    }
   ],
   "source": [
    "state_information = Information(state_count)\n",
    "print('Information = ', state_information)"
   ]
  },
  {
   "cell_type": "code",
   "execution_count": 67,
   "metadata": {},
   "outputs": [
    {
     "name": "stdout",
     "output_type": "stream",
     "text": [
      "Gain(Undergrad. Enrollment) = 0.32092490940388974\n",
      "Gain(Admission Rate) = 0.5405022103042527\n",
      "Gain(Student/faculty Ratio) = 0.3453555656376115\n",
      "Gain(4-year Grad. Rate) = 0.4288020592904811\n",
      "Gain(Total Costs) = 0.9703103476744439\n",
      "Gain(Cost After Need-based Aid) = 0.4130737055123621\n",
      "Gain(Need Met) = 0.24367615249043606\n",
      "Gain(Aid From Grants) = 0.3052452271606141\n",
      "Gain(Cost After Non-Need-Based Aid) = 0.609044293251022\n",
      "Gain(Non-Need-Based Aid+) = 0.4875826007501036\n",
      "Gain(Average Debt) = 0.543601539010218\n"
     ]
    }
   ],
   "source": [
    "category_ranges = [(0, 0.33), (0.34, 0.67), (0.68, 1)]\n",
    "\n",
    "for col in column_list :\n",
    "    infos = [] \n",
    "    probs = [] \n",
    "    for minimum, maximum in category_ranges:\n",
    "        # frequencies of records satisfying the category and state\n",
    "        freq_list = [] \n",
    "        category = college[col].between( minimum, maximum, inclusive=True)\n",
    "        for state in college['State'].unique() :\n",
    "            state_rec = category.loc[college['State'] == state].tolist()\n",
    "            freq = sum(state_rec)\n",
    "            freq_list.append(freq)\n",
    "        \n",
    "        infos.append(Information(freq_list))\n",
    "        probs.append(sum(freq_list) / len(college))\n",
    "    \n",
    "    # Calculate entropy for this column\n",
    "    entrpy = Entropy(probs, infos)\n",
    "    gain = state_information - entrpy\n",
    "    print(\"Gain({}) = {}\".format(col, gain))"
   ]
  },
  {
   "cell_type": "code",
   "execution_count": 68,
   "metadata": {},
   "outputs": [],
   "source": [
    "#Rank Columns\n",
    "column_list = ['Overall Rank', 'Cost Rank', 'Quality Rank']"
   ]
  },
  {
   "cell_type": "code",
   "execution_count": 72,
   "metadata": {},
   "outputs": [
    {
     "name": "stdout",
     "output_type": "stream",
     "text": [
      "Gain(Overall Rank) = 0.6545869443348256\n",
      "Gain(Cost Rank) = 0.6604397204024708\n",
      "Gain(Quality Rank) = 0.6555037878503662\n"
     ]
    }
   ],
   "source": [
    "category_ranges = [(1, 33), (34, 67), (68, 100)]\n",
    "for col in column_list :\n",
    "    infos = [] \n",
    "    probs = [] \n",
    "    for minimum, maximum in category_ranges:\n",
    "        # frequencies of records satisfying the category and state\n",
    "        freq_list = [] \n",
    "        category = college[col].between( minimum, maximum, inclusive=True)\n",
    "        for state in college['State'].unique() :\n",
    "            state_rec = category.loc[college['State'] == state].tolist()\n",
    "            freq = sum(state_rec)\n",
    "            freq_list.append(freq)\n",
    "        infos.append(Information(freq_list))\n",
    "        probs.append(sum(freq_list) / len(college))\n",
    "    \n",
    "    # Calculate entropy for this column\n",
    "    entrpy = Entropy(probs, infos)\n",
    "    gain = state_information - entrpy\n",
    "    print(\"Gain({}) = {}\".format(col, gain))"
   ]
  },
  {
   "cell_type": "code",
   "execution_count": null,
   "metadata": {},
   "outputs": [],
   "source": []
  }
 ],
 "metadata": {
  "kernelspec": {
   "display_name": "Python 3",
   "language": "python",
   "name": "python3"
  },
  "language_info": {
   "codemirror_mode": {
    "name": "ipython",
    "version": 3
   },
   "file_extension": ".py",
   "mimetype": "text/x-python",
   "name": "python",
   "nbconvert_exporter": "python",
   "pygments_lexer": "ipython3",
   "version": "3.7.1"
  }
 },
 "nbformat": 4,
 "nbformat_minor": 2
}
