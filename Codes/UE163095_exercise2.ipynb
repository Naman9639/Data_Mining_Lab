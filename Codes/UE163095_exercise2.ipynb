{
 "cells": [
  {
   "cell_type": "markdown",
   "metadata": {},
   "source": [
    "# Word Scrambler"
   ]
  },
  {
   "cell_type": "code",
   "execution_count": 1,
   "metadata": {},
   "outputs": [],
   "source": [
    "import string\n",
    "import random"
   ]
  },
  {
   "cell_type": "code",
   "execution_count": 2,
   "metadata": {},
   "outputs": [],
   "source": [
    "def scramble(strings):\n",
    "    words = strings.split(' ')\n",
    "    strings = ''\n",
    "    for word in words:\n",
    "        if(len(word)>3):\n",
    "            s = word[1:-1]\n",
    "            s = list(s)\n",
    "            random.shuffle(s)\n",
    "            s = ''.join(s)\n",
    "            strings = strings + ' ' + word[0] + s + word[len(word)-1]\n",
    "        else:\n",
    "            strings = strings + ' ' + word\n",
    "    strings = strings.lstrip()\n",
    "    return strings"
   ]
  },
  {
   "cell_type": "code",
   "execution_count": 3,
   "metadata": {},
   "outputs": [],
   "source": [
    "def stringswordcramble(strings):\n",
    "    s=''\n",
    "    for i in strings:\n",
    "        if i not in string.punctuation:\n",
    "            s += i\n",
    "    s = scramble(s)\n",
    "    final_str = ''\n",
    "    j=0\n",
    "    for i in strings:\n",
    "        if i in string.punctuation:\n",
    "            final_str += i\n",
    "        else:\n",
    "            final_str += s[j]\n",
    "            j+=1\n",
    "    print(final_str)"
   ]
  },
  {
   "cell_type": "code",
   "execution_count": 4,
   "metadata": {},
   "outputs": [],
   "source": [
    "#string1 = \"This is a word scrambler program!\"\n",
    "#string2 = \"Where is the  abc.doc, xyz.html file?\"\n",
    "#string3 = \"The Quick Brown Fox Jumps Over The Lazy Dog\"\n",
    "#string4 = \"Lorem ipsum dol.or sit amet, con$ectetur adipi@scing elit.\""
   ]
  },
  {
   "cell_type": "code",
   "execution_count": 5,
   "metadata": {},
   "outputs": [
    {
     "name": "stdout",
     "output_type": "stream",
     "text": [
      "Enter the String : This is a word scrambler program!\n",
      "Tihs is a wrod sblrmcaer porrgam!\n"
     ]
    }
   ],
   "source": [
    "stringsin = str(input(\"Enter the String : \"))\n",
    "stringswordcramble(stringsin)"
   ]
  },
  {
   "cell_type": "code",
   "execution_count": 6,
   "metadata": {},
   "outputs": [
    {
     "name": "stdout",
     "output_type": "stream",
     "text": [
      "Enter the String : Where is the  abc.doc, xyz.html file?\n",
      "Wrehe is the  adc.obc, xzt.hmyl flie?\n"
     ]
    }
   ],
   "source": [
    "stringsin = str(input(\"Enter the String : \"))\n",
    "stringswordcramble(stringsin)"
   ]
  },
  {
   "cell_type": "code",
   "execution_count": 7,
   "metadata": {},
   "outputs": [
    {
     "name": "stdout",
     "output_type": "stream",
     "text": [
      "Enter the String :The Quick Brown Fox Jumps Over The Lazy Dog\n",
      "The Qiuck Brwon Fox Jmpus Oevr The Lazy Dog\n"
     ]
    }
   ],
   "source": [
    "stringsin = str(input(\"Enter the String :\"))\n",
    "stringswordcramble(stringsin)"
   ]
  },
  {
   "cell_type": "code",
   "execution_count": 8,
   "metadata": {},
   "outputs": [
    {
     "name": "stdout",
     "output_type": "stream",
     "text": [
      "Enter the String :Lorem ipsum dol.or sit amet, con$ectetur adipi@scing elit.\n",
      "Lorem ipusm doo.lr sit amet, cou$neettcr aicis@dinpg elit.\n"
     ]
    }
   ],
   "source": [
    "stringsin = str(input(\"Enter the String :\"))\n",
    "stringswordcramble(stringsin)"
   ]
  },
  {
   "cell_type": "code",
   "execution_count": null,
   "metadata": {},
   "outputs": [],
   "source": []
  }
 ],
 "metadata": {
  "kernelspec": {
   "display_name": "Python 3",
   "language": "python",
   "name": "python3"
  },
  "language_info": {
   "codemirror_mode": {
    "name": "ipython",
    "version": 3
   },
   "file_extension": ".py",
   "mimetype": "text/x-python",
   "name": "python",
   "nbconvert_exporter": "python",
   "pygments_lexer": "ipython3",
   "version": "3.7.1"
  }
 },
 "nbformat": 4,
 "nbformat_minor": 2
}
