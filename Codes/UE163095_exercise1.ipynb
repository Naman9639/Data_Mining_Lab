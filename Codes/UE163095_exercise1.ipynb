{
 "cells": [
  {
   "cell_type": "markdown",
   "metadata": {},
   "source": [
    "# Exercise 1"
   ]
  },
  {
   "cell_type": "code",
   "execution_count": 1,
   "metadata": {},
   "outputs": [
    {
     "data": {
      "text/plain": [
       "25"
      ]
     },
     "execution_count": 1,
     "metadata": {},
     "output_type": "execute_result"
    }
   ],
   "source": [
    "10 + 15"
   ]
  },
  {
   "cell_type": "code",
   "execution_count": 2,
   "metadata": {},
   "outputs": [
    {
     "name": "stdout",
     "output_type": "stream",
     "text": [
      "Hello World\n"
     ]
    }
   ],
   "source": [
    "print(\"Hello World\")"
   ]
  },
  {
   "cell_type": "code",
   "execution_count": 3,
   "metadata": {},
   "outputs": [
    {
     "data": {
      "text/plain": [
       "11"
      ]
     },
     "execution_count": 3,
     "metadata": {},
     "output_type": "execute_result"
    }
   ],
   "source": [
    "45 - 34"
   ]
  },
  {
   "cell_type": "code",
   "execution_count": 4,
   "metadata": {},
   "outputs": [
    {
     "data": {
      "text/plain": [
       "16"
      ]
     },
     "execution_count": 4,
     "metadata": {},
     "output_type": "execute_result"
    }
   ],
   "source": [
    "8 * 2"
   ]
  },
  {
   "cell_type": "code",
   "execution_count": 5,
   "metadata": {},
   "outputs": [
    {
     "name": "stdout",
     "output_type": "stream",
     "text": [
      "Rahul's age is 45\n"
     ]
    }
   ],
   "source": [
    "print(\"Rahul's age is\", 45)"
   ]
  },
  {
   "cell_type": "code",
   "execution_count": 6,
   "metadata": {},
   "outputs": [
    {
     "name": "stdout",
     "output_type": "stream",
     "text": [
      "I have 10 mangoes and 12 bananas\n"
     ]
    }
   ],
   "source": [
    "print(\"I have\", 10, \"mangoes and\", 12, \"bananas\")"
   ]
  },
  {
   "cell_type": "code",
   "execution_count": 7,
   "metadata": {},
   "outputs": [
    {
     "name": "stdout",
     "output_type": "stream",
     "text": [
      "Employee Number: 1233\n",
      "Employee Salary and Name: 16745.5 Jerry Squaris\n",
      "Updated Employee Salary : 23450.34\n"
     ]
    }
   ],
   "source": [
    "emp_number = 1233\n",
    "print(\"Employee Number:\", emp_number)\n",
    "\n",
    "emp_salary = 16745.5 \n",
    "emp_name = \"Jerry Squaris\"\n",
    "print(\"Employee Salary and Name:\", emp_salary, emp_name)\n",
    "\n",
    "emp_salary = 23450.34\n",
    "print(\"Updated Employee Salary :\", emp_salary)"
   ]
  },
  {
   "cell_type": "code",
   "execution_count": 8,
   "metadata": {},
   "outputs": [
    {
     "name": "stdout",
     "output_type": "stream",
     "text": [
      "<class 'int'>\n"
     ]
    }
   ],
   "source": [
    "customer_id = 101 \n",
    "print(type(customer_id))"
   ]
  },
  {
   "cell_type": "code",
   "execution_count": 9,
   "metadata": {},
   "outputs": [
    {
     "data": {
      "text/plain": [
       "str"
      ]
     },
     "execution_count": 9,
     "metadata": {},
     "output_type": "execute_result"
    }
   ],
   "source": [
    "customer_name = \"John\" \n",
    "type(customer_name)"
   ]
  },
  {
   "cell_type": "code",
   "execution_count": 10,
   "metadata": {},
   "outputs": [
    {
     "data": {
      "text/plain": [
       "float"
      ]
     },
     "execution_count": 10,
     "metadata": {},
     "output_type": "execute_result"
    }
   ],
   "source": [
    "bill_amount = 675.45 \n",
    "type( bill_amount )"
   ]
  },
  {
   "cell_type": "code",
   "execution_count": 11,
   "metadata": {},
   "outputs": [
    {
     "data": {
      "text/plain": [
       "complex"
      ]
     },
     "execution_count": 11,
     "metadata": {},
     "output_type": "execute_result"
    }
   ],
   "source": [
    "x = 5.3 + 0.9j \n",
    "type(x)"
   ]
  },
  {
   "cell_type": "code",
   "execution_count": 12,
   "metadata": {},
   "outputs": [
    {
     "name": "stdout",
     "output_type": "stream",
     "text": [
      "101 John 675.45\n",
      "5.3\n",
      "3.9\n"
     ]
    }
   ],
   "source": [
    "print(customer_id, customer_name, bill_amount) \n",
    "print(x.real) \n",
    "print(x.imag + 3) "
   ]
  },
  {
   "cell_type": "code",
   "execution_count": 13,
   "metadata": {},
   "outputs": [
    {
     "data": {
      "text/plain": [
       "bool"
      ]
     },
     "execution_count": 13,
     "metadata": {},
     "output_type": "execute_result"
    }
   ],
   "source": [
    "Flag = True\n",
    "type(Flag)"
   ]
  },
  {
   "cell_type": "code",
   "execution_count": 14,
   "metadata": {},
   "outputs": [
    {
     "data": {
      "text/plain": [
       "str"
      ]
     },
     "execution_count": 14,
     "metadata": {},
     "output_type": "execute_result"
    }
   ],
   "source": [
    "y = \"False\"\n",
    "type(y)"
   ]
  },
  {
   "cell_type": "code",
   "execution_count": 15,
   "metadata": {},
   "outputs": [
    {
     "name": "stdout",
     "output_type": "stream",
     "text": [
      "Enter the Bill ID :101\n",
      "Enter the Custormer ID :1001\n",
      "Enter the Customer Name :Rahul\n",
      "Is Customer Minor :False\n",
      "Enter the bill amouont :2000.50\n",
      "\n",
      "Customer Details\n",
      "Bill ID : 101\n",
      "Customer Name : Rahul\n",
      "Customer ID : 1001\n",
      "Is Customer Minor : True\n",
      "Bill Amount 2000.5\n"
     ]
    }
   ],
   "source": [
    "bill_id = int(input(\"Enter the Bill ID :\"))\n",
    "customer_id = int(input(\"Enter the Custormer ID :\"))\n",
    "customer_name = str(input(\"Enter the Customer Name :\"))\n",
    "is_minor = bool(input(\"Is Customer Minor :\"))\n",
    "bill_amount = float(input(\"Enter the bill amouont :\"))\n",
    "\n",
    "print(\"\\nCustomer Details\")\n",
    "print(\"Bill ID :\", bill_id)\n",
    "print(\"Customer Name :\", customer_name)\n",
    "print(\"Customer ID :\", customer_id)\n",
    "print(\"Is Customer Minor :\", is_minor)\n",
    "print(\"Bill Amount\", bill_amount)"
   ]
  },
  {
   "cell_type": "code",
   "execution_count": 16,
   "metadata": {},
   "outputs": [
    {
     "name": "stdout",
     "output_type": "stream",
     "text": [
      "Enter First Number :54\n",
      "Enter Second Number :35\n",
      "99\n"
     ]
    }
   ],
   "source": [
    "num1 = int(input(\"Enter First Number :\")) + 4\n",
    "num2 = int(input(\"Enter Second Number :\")) + 6\n",
    "sum_number = num1 + num2\n",
    "print(sum_number)"
   ]
  },
  {
   "cell_type": "code",
   "execution_count": 17,
   "metadata": {},
   "outputs": [
    {
     "name": "stdout",
     "output_type": "stream",
     "text": [
      "Before Swaping\n",
      " a = 10 \n",
      " b = 18\n",
      "After Swaping\n",
      " a = 18 \n",
      " b = 10\n"
     ]
    }
   ],
   "source": [
    "a = 10\n",
    "b = 18\n",
    "\n",
    "print(\"Before Swaping\\n\",\"a =\",a,\"\\n b =\",b)\n",
    "\n",
    "a = a + b\n",
    "b = a - b\n",
    "a = a - b\n",
    "\n",
    "print(\"After Swaping\\n\",\"a =\",a,\"\\n b =\",b)"
   ]
  },
  {
   "cell_type": "code",
   "execution_count": 18,
   "metadata": {},
   "outputs": [
    {
     "name": "stdout",
     "output_type": "stream",
     "text": [
      "Enter the Student Name :John\n",
      "Enter Marks 1:95\n",
      "Enter Marks 2:85\n",
      "Enter Marks 3:88\n",
      "Average Marks : 89.33333333333333\n",
      "Subject Number to change marks in subject2\n",
      "Enter Marks 2:86\n",
      "Average Marks : 89.66666666666667\n"
     ]
    }
   ],
   "source": [
    "def avg(m1,m2,m3):\n",
    "    print(\"Average Marks :\",(m1+m2+m3)/3)\n",
    "\n",
    "student_name = str(input(\"Enter the Student Name :\"))\n",
    "marks1 = int(input(\"Enter Marks 1:\"))\n",
    "marks2 = int(input(\"Enter Marks 2:\"))\n",
    "marks3 = int(input(\"Enter Marks 3:\"))\n",
    "\n",
    "avg(marks1,marks2,marks3)\n",
    "\n",
    "sub = int(input(\"Subject Number to change marks in subject\"))\n",
    "if(sub == 1):\n",
    "    marks1 = int(input(\"Enter Marks 1:\"))\n",
    "elif(sub == 2):\n",
    "    marks2 = int(input(\"Enter Marks 2:\"))\n",
    "else:\n",
    "    marks3 = int(input(\"Enter Marks 3:\"))\n",
    "\n",
    "avg(marks1,marks2,marks3)"
   ]
  },
  {
   "cell_type": "code",
   "execution_count": 19,
   "metadata": {},
   "outputs": [
    {
     "name": "stdout",
     "output_type": "stream",
     "text": [
      "Enter the Radius of the Circle :7\n",
      "Area of the Circle : 153.86\n",
      "Perimeter of the Circle : 43.96\n"
     ]
    }
   ],
   "source": [
    "r = float(input(\"Enter the Radius of the Circle :\"))\n",
    "pi = 3.14\n",
    "\n",
    "area = pi*r*r\n",
    "perimeter = 2*pi*r\n",
    "print(\"Area of the Circle :\", area)\n",
    "print(\"Perimeter of the Circle :\", perimeter)"
   ]
  },
  {
   "cell_type": "code",
   "execution_count": 20,
   "metadata": {},
   "outputs": [
    {
     "name": "stdout",
     "output_type": "stream",
     "text": [
      "Enter Employee Number :101\n",
      "Enter hours worked per week :40\n",
      "Enter the Payrate per hour :400\n",
      "Enter the number of weeks worked :4\n",
      "Monthly Salary of the Employee with Employee Number 101 is 64000.0\n",
      "calculate salary of othe employees ? (y/n) :n\n"
     ]
    }
   ],
   "source": [
    "def Monthlypay(hrs_per_week,payrate,weeks):\n",
    "    return hrs_per_week * payrate * weeks\n",
    "while True :\n",
    "    empno = input(\"Enter Employee Number :\")\n",
    "    hrs = int(input(\"Enter hours worked per week :\"))\n",
    "    payrate = float(input(\"Enter the Payrate per hour :\"))\n",
    "    weeks = int(input(\"Enter the number of weeks worked :\"))\n",
    "    print(\"Monthly Salary of the Employee with Employee Number\",empno, \"is\", Monthlypay(hrs,payrate,weeks))\n",
    "    choice = input(\"calculate salary of othe employees ? (y/n) :\")\n",
    "    if choice == 'n' or choice == 'N':\n",
    "        break\n"
   ]
  },
  {
   "cell_type": "code",
   "execution_count": 21,
   "metadata": {},
   "outputs": [
    {
     "name": "stdout",
     "output_type": "stream",
     "text": [
      "50\n",
      "52\n",
      "54\n",
      "56\n",
      "58\n",
      "60\n",
      "62\n",
      "64\n",
      "66\n",
      "68\n",
      "70\n",
      "72\n",
      "74\n",
      "76\n",
      "78\n",
      "80\n"
     ]
    }
   ],
   "source": [
    "for i in range(50,80+1):\n",
    "    if i%2 == 0:\n",
    "        print(i)"
   ]
  },
  {
   "cell_type": "code",
   "execution_count": 22,
   "metadata": {},
   "outputs": [
    {
     "name": "stdout",
     "output_type": "stream",
     "text": [
      "Enter Value of n :4\n",
      "Value of Sum upto  4 is 10\n"
     ]
    }
   ],
   "source": [
    "n = int(input(\"Enter Value of n :\"))\n",
    "if n < 1:\n",
    "    print(\"n is not a natural number\")\n",
    "else:\n",
    "    sum_val = 0\n",
    "    for i in range(1,n+1):\n",
    "        sum_val += i\n",
    "    print(\"Value of Sum upto \",n, \"is\" ,sum_val)"
   ]
  },
  {
   "cell_type": "code",
   "execution_count": 27,
   "metadata": {},
   "outputs": [
    {
     "name": "stdout",
     "output_type": "stream",
     "text": [
      "Enter the number :433\n",
      "The number is prime\n"
     ]
    }
   ],
   "source": [
    "n = int(input(\"Enter the number :\"))\n",
    "fl = False\n",
    "if n == 1:\n",
    "    fl = True\n",
    "for i in range(2,int(n/2)):\n",
    "    if n % i == 0:\n",
    "        fl = True\n",
    "    if fl:\n",
    "        break\n",
    "if fl:\n",
    "    print(\"The number is not prime\")\n",
    "else:\n",
    "    print(\"The number is prime\")\n",
    "    "
   ]
  },
  {
   "cell_type": "code",
   "execution_count": 28,
   "metadata": {},
   "outputs": [
    {
     "name": "stdout",
     "output_type": "stream",
     "text": [
      "Enter the Value of n :20\n",
      "20 Elements in the fibonacci series are :\n",
      "0\n",
      "1\n",
      "1\n",
      "2\n",
      "3\n",
      "5\n",
      "8\n",
      "13\n",
      "21\n",
      "34\n",
      "55\n",
      "89\n",
      "144\n",
      "233\n",
      "377\n",
      "610\n",
      "987\n",
      "1597\n",
      "2584\n",
      "4181\n"
     ]
    }
   ],
   "source": [
    "b = 0\n",
    "a = 1\n",
    "n = int(input(\"Enter the Value of n :\"))\n",
    "print(n,\"Elements in the fibonacci series are :\")\n",
    "if n >= 1:\n",
    "    print(b)\n",
    "    \n",
    "if n >= 2:\n",
    "    print(a)\n",
    "\n",
    "if n >= 3:\n",
    "    for i in range(2,n):\n",
    "        t = a\n",
    "        a = a + b\n",
    "        b = t\n",
    "        print(a)\n",
    "        "
   ]
  },
  {
   "cell_type": "code",
   "execution_count": null,
   "metadata": {},
   "outputs": [],
   "source": []
  }
 ],
 "metadata": {
  "kernelspec": {
   "display_name": "Python 3",
   "language": "python",
   "name": "python3"
  },
  "language_info": {
   "codemirror_mode": {
    "name": "ipython",
    "version": 3
   },
   "file_extension": ".py",
   "mimetype": "text/x-python",
   "name": "python",
   "nbconvert_exporter": "python",
   "pygments_lexer": "ipython3",
   "version": "3.7.1"
  }
 },
 "nbformat": 4,
 "nbformat_minor": 2
}
