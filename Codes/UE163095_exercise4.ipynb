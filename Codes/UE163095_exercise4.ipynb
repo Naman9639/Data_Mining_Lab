{
 "cells": [
  {
   "cell_type": "markdown",
   "metadata": {},
   "source": [
    "<b> Question 1: <b>"
   ]
  },
  {
   "cell_type": "code",
   "execution_count": 1,
   "metadata": {},
   "outputs": [
    {
     "name": "stdout",
     "output_type": "stream",
     "text": [
      "Enter the string : How many cookies could a good cook cook If a good cook could cook cookies? A good cook could cook as much cookies as a good cook who could cook cookies.\n"
     ]
    }
   ],
   "source": [
    "strings = str(input(\"Enter the string : \"))"
   ]
  },
  {
   "cell_type": "code",
   "execution_count": 2,
   "metadata": {},
   "outputs": [],
   "source": [
    "import string\n",
    "def wordfreq(text):\n",
    "    text = text.lower()\n",
    "    st = ''\n",
    "    for i in text:\n",
    "        if i not in string.punctuation:\n",
    "            st += i\n",
    "    words = st.split()\n",
    "    freq = {}\n",
    "    for word in words:\n",
    "        if word not in freq:\n",
    "            freq[word] = 1\n",
    "        else:\n",
    "            freq[word] += 1\n",
    "    for i in freq:\n",
    "        print(freq[i],\"\\t\",i)"
   ]
  },
  {
   "cell_type": "code",
   "execution_count": 3,
   "metadata": {},
   "outputs": [
    {
     "name": "stdout",
     "output_type": "stream",
     "text": [
      "1 \t how\n",
      "1 \t many\n",
      "4 \t cookies\n",
      "4 \t could\n",
      "4 \t a\n",
      "4 \t good\n",
      "8 \t cook\n",
      "1 \t if\n",
      "2 \t as\n",
      "1 \t much\n",
      "1 \t who\n"
     ]
    }
   ],
   "source": [
    "wordfreq(strings)"
   ]
  },
  {
   "cell_type": "markdown",
   "metadata": {},
   "source": [
    "<b> Question 2: <b>"
   ]
  },
  {
   "cell_type": "code",
   "execution_count": 4,
   "metadata": {},
   "outputs": [],
   "source": [
    "Student = {'UE183001': 'Avish',\n",
    "           'UE183002': 'Bhavya',\n",
    "           'UE183003': 'Tanya',\n",
    "           'UE183004': 'Shaswat',\n",
    "           'UE183005': 'Shivank',\n",
    "           'UE183006': 'Pratik',\n",
    "           'UE183007': 'Shubham',\n",
    "           'UE183008': 'Naman',\n",
    "           'UE183009': 'Shubh',\n",
    "           'UE183010': 'Sindhiya'\n",
    "          }\n",
    "\n",
    "Marks = [('UE183001', 'CS', 94 ), ('UE183001', 'RV', 94 ), \n",
    "         ('UE183002', 'CS', 64 ), ('UE183002', 'RV', 74 ),\n",
    "         ('UE183003', 'CS', 64 ), ('UE183003', 'RV', 68 ),\n",
    "         ('UE183004', 'CS', 78 ), ('UE183004', 'RV', 88 ),\n",
    "         ('UE183005', 'CS', 87 ), ('UE183005', 'RV', 85 ),\n",
    "         ('UE183006', 'CS', 89 ), ('UE183006', 'RV', 88 ),\n",
    "         ('UE183007', 'CS', 75 ), ('UE183007', 'RV', 98 ),\n",
    "         ('UE183008', 'CS', 77 ), ('UE183008', 'RV', 78 ),\n",
    "         ('UE183009', 'CS', 78 ), ('UE183009', 'RV', 68 ),\n",
    "         ('UE183010', 'CS', 98 ), ('UE183010', 'RV', 59 )       \n",
    "         ]\n"
   ]
  },
  {
   "cell_type": "code",
   "execution_count": 5,
   "metadata": {},
   "outputs": [],
   "source": [
    "def total_marks(st_data, mk_data):\n",
    "    for i in st_data:\n",
    "        sumval=0\n",
    "        for j in mk_data:\n",
    "            if i in j:\n",
    "                sumval+=j[2]\n",
    "        print(st_data[i],sumval)\n",
    "        "
   ]
  },
  {
   "cell_type": "code",
   "execution_count": 6,
   "metadata": {},
   "outputs": [
    {
     "name": "stdout",
     "output_type": "stream",
     "text": [
      "Avish 188\n",
      "Bhavya 138\n",
      "Tanya 132\n",
      "Shaswat 166\n",
      "Shivank 172\n",
      "Pratik 177\n",
      "Shubham 173\n",
      "Naman 155\n",
      "Shubh 146\n",
      "Sindhiya 157\n"
     ]
    }
   ],
   "source": [
    "total_marks(Student ,Marks)"
   ]
  },
  {
   "cell_type": "markdown",
   "metadata": {},
   "source": [
    "<b> Question 3: <b>"
   ]
  },
  {
   "cell_type": "code",
   "execution_count": 7,
   "metadata": {},
   "outputs": [],
   "source": [
    "def dateconv(date):\n",
    "    d = date.split('-')\n",
    "    month = {'JAN' : 1, 'FEB' : 2, 'MAR' : 3, 'APR' : 4, 'MAY' : 5, 'JUN' : 6,\n",
    "             'JUL' : 7, 'AUG' : 8, 'SEP' : 9, 'OCT' : 10, 'NOV' : 11, 'DEC' : 12,\n",
    "            }\n",
    "    if int(d[2])<19:\n",
    "        d[2] = int(d[2])+2000\n",
    "    else:\n",
    "        d[2] = int(d[2])+1900\n",
    "        \n",
    "    return (int(d[2]),month[d[1]],int(d[0]))\n"
   ]
  },
  {
   "cell_type": "code",
   "execution_count": 8,
   "metadata": {},
   "outputs": [
    {
     "name": "stdout",
     "output_type": "stream",
     "text": [
      "Enter Date :8-MAR-85\n",
      "(1985, 3, 8)\n"
     ]
    }
   ],
   "source": [
    "date = input(\"Enter Date :\")\n",
    "d = dateconv(date)\n",
    "print(d)"
   ]
  },
  {
   "cell_type": "markdown",
   "metadata": {},
   "source": [
    "<b> Question 4: <b>"
   ]
  },
  {
   "cell_type": "code",
   "execution_count": 9,
   "metadata": {},
   "outputs": [
    {
     "name": "stdout",
     "output_type": "stream",
     "text": [
      "Key \tLength\n",
      "2 \t   1\n",
      "3 \t   2\n",
      "4 \t   3\n",
      "5 \t   4\n",
      "6 \t   5\n",
      "7 \t   6\n",
      "8 \t   5\n",
      "9 \t   4\n",
      "10 \t   3\n",
      "11 \t   2\n",
      "12 \t   1\n"
     ]
    }
   ],
   "source": [
    "dictionary = {}\n",
    "for i in range(1,7):\n",
    "    for j in range(1,7):\n",
    "        if i+j in dictionary:\n",
    "            dictionary[i+j].append((i,j))\n",
    "        else:\n",
    "            dictionary[i+j] = [(i,j)]\n",
    "print(\"Key\",\"\\tLength\")\n",
    "for val in dictionary:\n",
    "    print(val,'\\t  ',len(dictionary[val]))"
   ]
  },
  {
   "cell_type": "code",
   "execution_count": null,
   "metadata": {},
   "outputs": [],
   "source": []
  }
 ],
 "metadata": {
  "kernelspec": {
   "display_name": "Python 3",
   "language": "python",
   "name": "python3"
  },
  "language_info": {
   "codemirror_mode": {
    "name": "ipython",
    "version": 3
   },
   "file_extension": ".py",
   "mimetype": "text/x-python",
   "name": "python",
   "nbconvert_exporter": "python",
   "pygments_lexer": "ipython3",
   "version": "3.7.1"
  }
 },
 "nbformat": 4,
 "nbformat_minor": 2
}
