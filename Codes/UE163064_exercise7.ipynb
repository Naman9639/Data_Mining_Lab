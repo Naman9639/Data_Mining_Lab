{
 "cells": [
  {
   "cell_type": "code",
   "execution_count": 1,
   "metadata": {},
   "outputs": [],
   "source": [
    "import numpy as np\n",
    "import pandas as pd"
   ]
  },
  {
   "cell_type": "code",
   "execution_count": 2,
   "metadata": {},
   "outputs": [],
   "source": [
    "file_path = 'Top 100 Private Colleges.2003.csv'"
   ]
  },
  {
   "cell_type": "code",
   "execution_count": 3,
   "metadata": {},
   "outputs": [
    {
     "data": {
      "text/html": [
       "<div>\n",
       "<style scoped>\n",
       "    .dataframe tbody tr th:only-of-type {\n",
       "        vertical-align: middle;\n",
       "    }\n",
       "\n",
       "    .dataframe tbody tr th {\n",
       "        vertical-align: top;\n",
       "    }\n",
       "\n",
       "    .dataframe thead th {\n",
       "        text-align: right;\n",
       "    }\n",
       "</style>\n",
       "<table border=\"1\" class=\"dataframe\">\n",
       "  <thead>\n",
       "    <tr style=\"text-align: right;\">\n",
       "      <th></th>\n",
       "      <th>Overall Rank</th>\n",
       "      <th>School</th>\n",
       "      <th>State</th>\n",
       "      <th>Undergrad. Enrollment</th>\n",
       "      <th>Admission Rate</th>\n",
       "      <th>*SAT or ACT</th>\n",
       "      <th>Student/faculty Ratio</th>\n",
       "      <th>4-year Grad. Rate</th>\n",
       "      <th>6-year Grad. Rate</th>\n",
       "      <th>Quality Rank</th>\n",
       "      <th>Total Costs</th>\n",
       "      <th>Cost After Need-based Aid</th>\n",
       "      <th>Need Met</th>\n",
       "      <th>Aid From Grants</th>\n",
       "      <th>Cost After Non-Need-Based Aid</th>\n",
       "      <th>Non-Need-Based Aid+</th>\n",
       "      <th>Average Debt</th>\n",
       "      <th>Cost Rank</th>\n",
       "    </tr>\n",
       "  </thead>\n",
       "  <tbody>\n",
       "    <tr>\n",
       "      <th>0</th>\n",
       "      <td>1.0</td>\n",
       "      <td>California Institute of Technology</td>\n",
       "      <td>CA</td>\n",
       "      <td>939.0</td>\n",
       "      <td>21%</td>\n",
       "      <td>99/100%</td>\n",
       "      <td>3.0</td>\n",
       "      <td>71%</td>\n",
       "      <td>85%</td>\n",
       "      <td>10.0</td>\n",
       "      <td>$32,682</td>\n",
       "      <td>$10,981</td>\n",
       "      <td>100%</td>\n",
       "      <td>93%</td>\n",
       "      <td>$18,553</td>\n",
       "      <td>15%</td>\n",
       "      <td>$10,244</td>\n",
       "      <td>4.0</td>\n",
       "    </tr>\n",
       "    <tr>\n",
       "      <th>1</th>\n",
       "      <td>2.0</td>\n",
       "      <td>Rice University</td>\n",
       "      <td>TX</td>\n",
       "      <td>2787.0</td>\n",
       "      <td>24%</td>\n",
       "      <td>89/92%</td>\n",
       "      <td>5.0</td>\n",
       "      <td>68%</td>\n",
       "      <td>89%</td>\n",
       "      <td>19.0</td>\n",
       "      <td>$28,350</td>\n",
       "      <td>$14,779</td>\n",
       "      <td>100%</td>\n",
       "      <td>88%</td>\n",
       "      <td>$22,418</td>\n",
       "      <td>34%</td>\n",
       "      <td>$12,705</td>\n",
       "      <td>5.0</td>\n",
       "    </tr>\n",
       "    <tr>\n",
       "      <th>2</th>\n",
       "      <td>3.0</td>\n",
       "      <td>Williams College</td>\n",
       "      <td>MA</td>\n",
       "      <td>1985.0</td>\n",
       "      <td>23%</td>\n",
       "      <td>93/93%</td>\n",
       "      <td>8.0</td>\n",
       "      <td>89%</td>\n",
       "      <td>94%</td>\n",
       "      <td>1.0</td>\n",
       "      <td>$36,550</td>\n",
       "      <td>$14,737</td>\n",
       "      <td>100%</td>\n",
       "      <td>89%</td>\n",
       "      <td>$33,251</td>\n",
       "      <td>NaN</td>\n",
       "      <td>$12,316</td>\n",
       "      <td>26.0</td>\n",
       "    </tr>\n",
       "    <tr>\n",
       "      <th>3</th>\n",
       "      <td>4.0</td>\n",
       "      <td>Swarthmore College</td>\n",
       "      <td>PA</td>\n",
       "      <td>1479.0</td>\n",
       "      <td>24%</td>\n",
       "      <td>94/98%</td>\n",
       "      <td>8.0</td>\n",
       "      <td>86%</td>\n",
       "      <td>92%</td>\n",
       "      <td>4.0</td>\n",
       "      <td>$38,676</td>\n",
       "      <td>$17,386</td>\n",
       "      <td>100%</td>\n",
       "      <td>85%</td>\n",
       "      <td>$11,404</td>\n",
       "      <td>2%</td>\n",
       "      <td>$12,759</td>\n",
       "      <td>21.0</td>\n",
       "    </tr>\n",
       "    <tr>\n",
       "      <th>4</th>\n",
       "      <td>5.0</td>\n",
       "      <td>Amherst College</td>\n",
       "      <td>MA</td>\n",
       "      <td>1618.0</td>\n",
       "      <td>18%</td>\n",
       "      <td>94/92%</td>\n",
       "      <td>9.0</td>\n",
       "      <td>84%</td>\n",
       "      <td>94%</td>\n",
       "      <td>5.0</td>\n",
       "      <td>$38,492</td>\n",
       "      <td>$14,453</td>\n",
       "      <td>100%</td>\n",
       "      <td>92%</td>\n",
       "      <td>$33,411</td>\n",
       "      <td>NaN</td>\n",
       "      <td>$11,544</td>\n",
       "      <td>38.0</td>\n",
       "    </tr>\n",
       "  </tbody>\n",
       "</table>\n",
       "</div>"
      ],
      "text/plain": [
       "   Overall Rank                              School State  \\\n",
       "0           1.0  California Institute of Technology    CA   \n",
       "1           2.0                     Rice University    TX   \n",
       "2           3.0                    Williams College    MA   \n",
       "3           4.0                  Swarthmore College    PA   \n",
       "4           5.0                     Amherst College    MA   \n",
       "\n",
       "   Undergrad. Enrollment Admission Rate *SAT or ACT  Student/faculty Ratio  \\\n",
       "0                  939.0            21%     99/100%                    3.0   \n",
       "1                 2787.0            24%      89/92%                    5.0   \n",
       "2                 1985.0            23%      93/93%                    8.0   \n",
       "3                 1479.0            24%      94/98%                    8.0   \n",
       "4                 1618.0            18%      94/92%                    9.0   \n",
       "\n",
       "  4-year Grad. Rate 6-year Grad. Rate  Quality Rank Total Costs  \\\n",
       "0               71%               85%          10.0    $32,682    \n",
       "1               68%               89%          19.0    $28,350    \n",
       "2               89%               94%           1.0    $36,550    \n",
       "3               86%               92%           4.0    $38,676    \n",
       "4               84%               94%           5.0    $38,492    \n",
       "\n",
       "  Cost After Need-based Aid Need Met Aid From Grants  \\\n",
       "0                  $10,981      100%             93%   \n",
       "1                  $14,779      100%             88%   \n",
       "2                  $14,737      100%             89%   \n",
       "3                  $17,386      100%             85%   \n",
       "4                  $14,453      100%             92%   \n",
       "\n",
       "  Cost After Non-Need-Based Aid Non-Need-Based Aid+ Average Debt  Cost Rank  \n",
       "0                      $18,553                  15%     $10,244         4.0  \n",
       "1                      $22,418                  34%     $12,705         5.0  \n",
       "2                      $33,251                  NaN     $12,316        26.0  \n",
       "3                      $11,404                   2%     $12,759        21.0  \n",
       "4                      $33,411                  NaN     $11,544        38.0  "
      ]
     },
     "execution_count": 3,
     "metadata": {},
     "output_type": "execute_result"
    }
   ],
   "source": [
    "data = pd.read_csv(file_path)\n",
    "data.head()"
   ]
  },
  {
   "cell_type": "markdown",
   "metadata": {},
   "source": [
    "## Q1. List the top 10 quality ranked colleges"
   ]
  },
  {
   "cell_type": "code",
   "execution_count": 4,
   "metadata": {},
   "outputs": [
    {
     "data": {
      "text/plain": [
       "dtype('float64')"
      ]
     },
     "execution_count": 4,
     "metadata": {},
     "output_type": "execute_result"
    }
   ],
   "source": [
    "quality_ranks = data['Quality Rank']\n",
    "quality_ranks.dtypes"
   ]
  },
  {
   "cell_type": "code",
   "execution_count": 5,
   "metadata": {},
   "outputs": [],
   "source": [
    "quality_ranks = quality_ranks.sort_values()\n",
    "sorted_idxs = quality_ranks.keys()[:10]\n",
    "colleges = data['School']\n",
    "top_10_colleges = colleges[sorted_idxs]"
   ]
  },
  {
   "cell_type": "code",
   "execution_count": 6,
   "metadata": {},
   "outputs": [
    {
     "name": "stdout",
     "output_type": "stream",
     "text": [
      "Rank\t College\n",
      "1 \t Williams College\n",
      "2 \t Massachusetts Institute of Technology\n",
      "3 \t Yale University\n",
      "4 \t Swarthmore College\n",
      "5 \t Amherst College\n",
      "6 \t Stanford University\n",
      "7 \t Princeton University\n",
      "8 \t Harvard University\n",
      "9 \t University of Pennsylvania\n",
      "10 \t California Institute of Technology\n"
     ]
    }
   ],
   "source": [
    "print('Rank\\t College')\n",
    "for rank, college in enumerate(top_10_colleges):\n",
    "    print(rank+1,\"\\t\", college)"
   ]
  },
  {
   "cell_type": "markdown",
   "metadata": {},
   "source": [
    "## Q2. List all the colleges in California"
   ]
  },
  {
   "cell_type": "code",
   "execution_count": 7,
   "metadata": {},
   "outputs": [],
   "source": [
    "colleges_callifornia = data['School'].loc[data['State'] == \"CA\"]"
   ]
  },
  {
   "cell_type": "code",
   "execution_count": 8,
   "metadata": {},
   "outputs": [
    {
     "name": "stdout",
     "output_type": "stream",
     "text": [
      "California Institute of Technology\n",
      "Stanford University\n",
      "Pomona College\n",
      "Claremont McKenna College\n",
      "Harvey Mudd College\n",
      "University of Southern California\n",
      "Scripps College\n"
     ]
    }
   ],
   "source": [
    "for colleges in colleges_callifornia:\n",
    "    print(colleges)"
   ]
  },
  {
   "cell_type": "markdown",
   "metadata": {},
   "source": [
    "## Q3. Which college has lowest average debt?"
   ]
  },
  {
   "cell_type": "code",
   "execution_count": 9,
   "metadata": {},
   "outputs": [
    {
     "data": {
      "text/plain": [
       "dtype('O')"
      ]
     },
     "execution_count": 9,
     "metadata": {},
     "output_type": "execute_result"
    }
   ],
   "source": [
    "average_debt = data['Average Debt'].dropna()\n",
    "average_debt.dtypes"
   ]
  },
  {
   "cell_type": "code",
   "execution_count": 10,
   "metadata": {},
   "outputs": [],
   "source": [
    "# Removing $ and , signs\n",
    "average_debt = average_debt.str.replace(',', '')\n",
    "average_debt = average_debt.str.replace('$', '')\n",
    "average_debt = average_debt.astype(int)"
   ]
  },
  {
   "cell_type": "code",
   "execution_count": 11,
   "metadata": {},
   "outputs": [
    {
     "name": "stdout",
     "output_type": "stream",
     "text": [
      "0\n"
     ]
    }
   ],
   "source": [
    "min_debt = min(average_debt)\n",
    "idxs = []\n",
    "for idx, val in enumerate(average_debt):\n",
    "    if(val == min_debt):\n",
    "        idxs.append(idx)\n",
    "print(min_debt)"
   ]
  },
  {
   "cell_type": "code",
   "execution_count": 12,
   "metadata": {},
   "outputs": [],
   "source": [
    "schools_min_debt = data['School'].loc[idxs]"
   ]
  },
  {
   "cell_type": "code",
   "execution_count": 13,
   "metadata": {},
   "outputs": [
    {
     "name": "stdout",
     "output_type": "stream",
     "text": [
      "Washington University\n",
      "Dartmouth College\n",
      "Macalester College\n",
      "Brandeis University\n",
      "Bryn Mawr College\n",
      "Trinity University\n",
      "University of Rochester\n",
      "Babson College\n",
      "The George Washington University\n"
     ]
    }
   ],
   "source": [
    "for schools in schools_min_debt:\n",
    "    print(schools)"
   ]
  },
  {
   "cell_type": "markdown",
   "metadata": {},
   "source": [
    "## Q4. List bottom 10 cost rank colleges"
   ]
  },
  {
   "cell_type": "code",
   "execution_count": 14,
   "metadata": {},
   "outputs": [
    {
     "data": {
      "text/plain": [
       "dtype('float64')"
      ]
     },
     "execution_count": 14,
     "metadata": {},
     "output_type": "execute_result"
    }
   ],
   "source": [
    "cost_ranks = data['Cost Rank'].dropna()\n",
    "cost_ranks.dtypes"
   ]
  },
  {
   "cell_type": "code",
   "execution_count": 15,
   "metadata": {},
   "outputs": [],
   "source": [
    "cost_ranks = cost_ranks.sort_values(ascending=False)"
   ]
  },
  {
   "cell_type": "code",
   "execution_count": 16,
   "metadata": {},
   "outputs": [],
   "source": [
    "sorted_idxs = cost_ranks.keys()[:10]"
   ]
  },
  {
   "cell_type": "code",
   "execution_count": 17,
   "metadata": {},
   "outputs": [],
   "source": [
    "colleges = data[['School', 'Cost Rank']]\n",
    "bottom_10_colleges = colleges.loc[sorted_idxs]"
   ]
  },
  {
   "cell_type": "code",
   "execution_count": 18,
   "metadata": {},
   "outputs": [
    {
     "name": "stdout",
     "output_type": "stream",
     "text": [
      "                              School  Cost Rank\n",
      "90               New York University      100.0\n",
      "41               Wesleyan University       99.0\n",
      "36                Middlebury College       98.0\n",
      "32             Georgetown University       97.0\n",
      "99  The George Washington University       96.0\n",
      "40                Cornell University       95.0\n",
      "97  Rensselaer Polytechnic Institute       94.0\n",
      "22        University of Pennsylvania       93.0\n",
      "26                 Dartmouth College       92.0\n",
      "33                  Brown University       91.0\n"
     ]
    }
   ],
   "source": [
    "print(bottom_10_colleges)"
   ]
  },
  {
   "cell_type": "markdown",
   "metadata": {},
   "source": [
    "## Q5. Among colleges having more than 2000 undergraduates, which has highest faculty/student ratio."
   ]
  },
  {
   "cell_type": "code",
   "execution_count": 19,
   "metadata": {},
   "outputs": [
    {
     "data": {
      "text/plain": [
       "School                    object\n",
       "Student/faculty Ratio    float64\n",
       "dtype: object"
      ]
     },
     "execution_count": 19,
     "metadata": {},
     "output_type": "execute_result"
    }
   ],
   "source": [
    "colleges = data[['School' ,'Student/faculty Ratio']]\\\n",
    "  .loc[data[\"Undergrad. Enrollment\"] > 2000]\n",
    "colleges.dtypes"
   ]
  },
  {
   "cell_type": "code",
   "execution_count": 20,
   "metadata": {},
   "outputs": [
    {
     "name": "stdout",
     "output_type": "stream",
     "text": [
      "[ 5.  7.  8.  6. 11.  9. 12. 10. 13. 18. 17. 14.]\n"
     ]
    }
   ],
   "source": [
    "unique_val = colleges['Student/faculty Ratio'].unique()\n",
    "print(unique_val)"
   ]
  },
  {
   "cell_type": "code",
   "execution_count": 21,
   "metadata": {},
   "outputs": [],
   "source": [
    "max_ratio = max(unique_val)\n",
    "college_having_max_ratio = colleges['School']\\\n",
    "  .loc[colleges['Student/faculty Ratio'] == max_ratio]"
   ]
  },
  {
   "cell_type": "code",
   "execution_count": 22,
   "metadata": {},
   "outputs": [
    {
     "name": "stdout",
     "output_type": "stream",
     "text": [
      "Brigham Young University\n"
     ]
    }
   ],
   "source": [
    "for college in college_having_max_ratio:\n",
    "    print(college)"
   ]
  },
  {
   "cell_type": "markdown",
   "metadata": {},
   "source": [
    "## Q6. Which college has aid in grant more than 80% and costliest in total cost?"
   ]
  },
  {
   "cell_type": "code",
   "execution_count": 23,
   "metadata": {},
   "outputs": [],
   "source": [
    "colleges = data[['School' ,'Total Costs', \"Aid From Grants\"]]\\\n",
    "  .loc[data[\"Aid From Grants\"] > \"80%\"]"
   ]
  },
  {
   "cell_type": "code",
   "execution_count": 24,
   "metadata": {},
   "outputs": [],
   "source": [
    "colleges['Total Costs'] = colleges['Total Costs'].str.replace(',', '')\n",
    "colleges['Total Costs'] = colleges['Total Costs'].str.replace('$', '')\n",
    "colleges['Total Costs'] = colleges['Total Costs'].astype(int)"
   ]
  },
  {
   "cell_type": "code",
   "execution_count": 25,
   "metadata": {},
   "outputs": [
    {
     "name": "stdout",
     "output_type": "stream",
     "text": [
      "40248\n"
     ]
    }
   ],
   "source": [
    "max_cost = max(colleges['Total Costs'])\n",
    "print(max_cost)"
   ]
  },
  {
   "cell_type": "code",
   "execution_count": 26,
   "metadata": {},
   "outputs": [],
   "source": [
    "required_colleges = colleges\\\n",
    "  .loc[colleges['Total Costs'] == max_cost]"
   ]
  },
  {
   "cell_type": "code",
   "execution_count": 27,
   "metadata": {},
   "outputs": [
    {
     "name": "stdout",
     "output_type": "stream",
     "text": [
      "              School  Total Costs Aid From Grants\n",
      "33  Brown University        40248             83%\n"
     ]
    }
   ],
   "source": [
    "print(required_colleges)"
   ]
  },
  {
   "cell_type": "markdown",
   "metadata": {},
   "source": [
    "## Q7. Among top 50 quality rank colleges, which has lowest total cost"
   ]
  },
  {
   "cell_type": "code",
   "execution_count": 28,
   "metadata": {},
   "outputs": [],
   "source": [
    "colleges = data[['School' ,'Total Costs', \"Quality Rank\"]]\\\n",
    "  .loc[data[\"Quality Rank\"] <= 50]"
   ]
  },
  {
   "cell_type": "code",
   "execution_count": 29,
   "metadata": {},
   "outputs": [],
   "source": [
    "# Removing $ and , signs\n",
    "colleges['Total Costs'] = colleges['Total Costs'].str.replace(',', '')\n",
    "colleges['Total Costs'] = colleges['Total Costs'].str.replace('$', '')\n",
    "colleges['Total Costs'] = colleges['Total Costs'].astype(int)"
   ]
  },
  {
   "cell_type": "code",
   "execution_count": 30,
   "metadata": {},
   "outputs": [],
   "source": [
    "min_cost = min(colleges['Total Costs'])"
   ]
  },
  {
   "cell_type": "code",
   "execution_count": 31,
   "metadata": {},
   "outputs": [],
   "source": [
    "required_colleges = colleges\\\n",
    "  .loc[colleges['Total Costs'] == min_cost]"
   ]
  },
  {
   "cell_type": "code",
   "execution_count": 32,
   "metadata": {},
   "outputs": [
    {
     "name": "stdout",
     "output_type": "stream",
     "text": [
      "           School  Total Costs  Quality Rank\n",
      "5  Webb Institute         8079          39.0\n"
     ]
    }
   ],
   "source": [
    "print(required_colleges)"
   ]
  }
 ],
 "metadata": {
  "kernelspec": {
   "display_name": "Python 3",
   "language": "python",
   "name": "python3"
  },
  "language_info": {
   "codemirror_mode": {
    "name": "ipython",
    "version": 3
   },
   "file_extension": ".py",
   "mimetype": "text/x-python",
   "name": "python",
   "nbconvert_exporter": "python",
   "pygments_lexer": "ipython3",
   "version": "3.7.1"
  }
 },
 "nbformat": 4,
 "nbformat_minor": 2
}
