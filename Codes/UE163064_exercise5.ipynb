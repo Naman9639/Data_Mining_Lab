{
 "cells": [
  {
   "cell_type": "code",
   "execution_count": 1,
   "metadata": {
    "collapsed": true
   },
   "outputs": [],
   "source": [
    "import numpy as np"
   ]
  },
  {
   "cell_type": "markdown",
   "metadata": {},
   "source": [
    "**Q1. Create a function to check whether numpy array has Zero values or not.**"
   ]
  },
  {
   "cell_type": "code",
   "execution_count": 2,
   "metadata": {},
   "outputs": [
    {
     "name": "stdout",
     "output_type": "stream",
     "text": [
      "The random array is: \n",
      "[ 0.45192127  0.09021775  0.23519286  0.04574017  0.68379189]\n",
      "No the array does not have zero\n",
      "\n",
      "\n",
      "Another array: \n",
      "[1 2 3 0 2]\n",
      "Yes the numpy array contains zero\n"
     ]
    }
   ],
   "source": [
    "def zero_val(array):\n",
    "    count = np.count_nonzero(array==0)\n",
    "    if count != 0:\n",
    "        print(\"Yes the numpy array contains zero\")\n",
    "    else:\n",
    "        print(\"No the array does not have zero\")\n",
    "\n",
    "\n",
    "z = np.random.rand(5)\n",
    "print(\"The random array is: \")\n",
    "print(z)\n",
    "zero_val(z)\n",
    "print('\\n')\n",
    "print(\"Another array: \")\n",
    "a = np.array([1, 2, 3, 0, 2])\n",
    "print(a)\n",
    "zero_val(a)"
   ]
  },
  {
   "cell_type": "markdown",
   "metadata": {},
   "source": [
    "**Q2. Consider an array contains marks of students. Find the median and mean of students who got passing marks.**\n"
   ]
  },
  {
   "cell_type": "code",
   "execution_count": 3,
   "metadata": {},
   "outputs": [
    {
     "name": "stdout",
     "output_type": "stream",
     "text": [
      "The marks of students are: \n",
      "[65 14 14 15 14 85 91 74 41 78 41 75 21 42  8 70 91 10 56 95 24 55 65 42 57\n",
      " 65  1 52 63 12 84 91 44 77 50 52 40  0 84 72 19 56 71 60 12 91 56 95 99 29\n",
      " 79 15 52 14 85 17 60  5 51  6 21  4 15 86 55 51 45 22 54 24 28 24  4  7 71\n",
      " 91 42 77 60 71 44 58 89 27 14 54 50 51 61 81 74 39 80 73 48 28  6 81 74 52]\n",
      "\n",
      "\n",
      "The mean of passing students is: \n",
      "66.0447761194\n",
      "\n",
      "\n",
      "The median of passing students is: \n",
      "65.0\n"
     ]
    }
   ],
   "source": [
    "def get_median_mean(marks, passing_marks):\n",
    "    pass_marks = marks[np.where(marks >= passing_marks)]\n",
    "    print(\"The mean of passing students is: \")\n",
    "    print(np.mean(pass_marks))\n",
    "    print(\"\\n\")\n",
    "    print(\"The median of passing students is: \")\n",
    "    print(np.median(pass_marks))\n",
    "\n",
    "z = np.random.randint(0,100,100)\n",
    "print(\"The marks of students are: \")\n",
    "print(z)\n",
    "print('\\n')\n",
    "get_median_mean(z, 40) ## Asumming the passing marks = 40"
   ]
  },
  {
   "cell_type": "markdown",
   "metadata": {},
   "source": [
    "**Q3. Consider an array containing date of birth of students (Use np.datetime64('2018-02-01')). Find the age of all students. If age is 18 label it First, if it is 19, label it Second, if it is 20, label it Third, if it is 21, label it Fourth.**"
   ]
  },
  {
   "cell_type": "code",
   "execution_count": 4,
   "metadata": {},
   "outputs": [
    {
     "name": "stdout",
     "output_type": "stream",
     "text": [
      "['Second', 'Third', 'Fourth']\n"
     ]
    }
   ],
   "source": [
    "def calc_age(dob):\n",
    "    present = np.datetime64('today')\n",
    "    days_in_yr = 365.2425\n",
    "    days = np.int64(present - dob) \n",
    "    yrs =  np.int64(days // days_in_yr)\n",
    "    return max(0, yrs-17)\n",
    "\n",
    "def get_label(dates):\n",
    "    labels = np.array([calc_age(x) for x in dates])\n",
    "    labels_dict = {1: 'First', 2: 'Second', 3: 'Third', 4: 'Fourth'}\n",
    "    return [labels_dict[x] for x in labels]\n",
    "\n",
    "dates = np.array(['2000-01-13', '1998-06-15', '1997-08-13'], dtype='datetime64')\n",
    "labels = get_label(dates)\n",
    "print(labels)"
   ]
  },
  {
   "cell_type": "markdown",
   "metadata": {},
   "source": [
    "**Q4. Create a function to sort 2d Array by a column.**"
   ]
  },
  {
   "cell_type": "code",
   "execution_count": 5,
   "metadata": {},
   "outputs": [
    {
     "name": "stdout",
     "output_type": "stream",
     "text": [
      "The array is: \n",
      "[[1 2 3]\n",
      " [4 5 6]\n",
      " [8 0 1]]\n",
      "\n",
      "\n",
      "After sorting the matrix is: \n",
      "[[1 2 3]\n",
      " [4 5 6]\n",
      " [8 0 1]]\n"
     ]
    }
   ],
   "source": [
    "def sort_array_by_column(array):\n",
    "    array = array[array[:,0].argsort()]\n",
    "    return array\n",
    "\n",
    "z = np.array([[1,2,3],[4,5,6],[8,0,1]])\n",
    "print(\"The array is: \")\n",
    "print(z)\n",
    "print('\\n')\n",
    "print(\"After sorting the matrix is: \")\n",
    "sort_arr = sort_array_by_column(z)\n",
    "print(sort_arr)"
   ]
  },
  {
   "cell_type": "markdown",
   "metadata": {},
   "source": [
    "**Q5. Create one hot encoding of an array. For example For an** `array([2, 3, 2, 2, 2, 1])` **Output should be**\n",
    "\n",
    "   ```\n",
    "   array([[ 0.,  1.,  0.],\n",
    "\n",
    "             [ 0.,  0.,  1.],\n",
    "\n",
    "             [ 0.,  1.,  0.],\n",
    "\n",
    "             [ 0.,  1.,  0.],\n",
    "\n",
    "             [ 0.,  1.,  0.],\n",
    "\n",
    "            [ 1.,  0.,  0.]])\n",
    "    ```"
   ]
  },
  {
   "cell_type": "code",
   "execution_count": 6,
   "metadata": {},
   "outputs": [
    {
     "name": "stdout",
     "output_type": "stream",
     "text": [
      "[[ 0.  1.  0.]\n",
      " [ 0.  0.  1.]\n",
      " [ 0.  1.  0.]\n",
      " [ 0.  1.  0.]\n",
      " [ 0.  1.  0.]\n",
      " [ 1.  0.  0.]]\n"
     ]
    }
   ],
   "source": [
    "import numpy as np\n",
    "nb_classes = 3\n",
    "targets = np.array([[2, 3, 2, 2, 2, 1]]).reshape(-1)\n",
    "targets = targets - 1\n",
    "one_hot_targets = np.eye(nb_classes)[targets]\n",
    "print(one_hot_targets)"
   ]
  },
  {
   "cell_type": "markdown",
   "metadata": {},
   "source": [
    "**Q6. Drop all missing values from an array Input: np.array([1,2,3,np.nan,5,6,7,np.nan]) Desired Output: array([ 1.,2.,3.,5.,6.,7.])**"
   ]
  },
  {
   "cell_type": "code",
   "execution_count": 7,
   "metadata": {},
   "outputs": [
    {
     "name": "stdout",
     "output_type": "stream",
     "text": [
      "The entered array is: \n",
      "[  1.   2.   3.  nan   5.   6.   7.  nan]\n",
      "\n",
      "\n",
      "After removing the missing values the array is: \n",
      "[ 1.  2.  3.  5.  6.  7.]\n"
     ]
    }
   ],
   "source": [
    "x = np.array([1,2,3,np.nan,5,6,7,np.nan])\n",
    "print(\"The entered array is: \")\n",
    "print(x)\n",
    "print('\\n')\n",
    "x = x[~np.isnan(x)]\n",
    "print(\"After removing the missing values the array is: \")\n",
    "print(x)"
   ]
  },
  {
   "cell_type": "markdown",
   "metadata": {},
   "source": [
    "**Q7. Find Local maxima from an array. Input: a = np.array([1, 3, 7, 1, 2, 6, 0, 1]) Desired Output: array([2, 5, 7])**"
   ]
  },
  {
   "cell_type": "code",
   "execution_count": 8,
   "metadata": {},
   "outputs": [
    {
     "name": "stdout",
     "output_type": "stream",
     "text": [
      "[2 5 7]\n"
     ]
    }
   ],
   "source": [
    "def get_max(arr):\n",
    "    indices = np.arange(0, len(arr)-1, 1)\n",
    "    local_maximas = []\n",
    "    \n",
    "    if arr[0] > arr[1]:\n",
    "        local_maximas.append(0)\n",
    "    \n",
    "    for x in indices:\n",
    "        if x != 0:\n",
    "            if arr[x] > arr[x-1] and arr[x] > arr[x+1]:\n",
    "                local_maximas.append(x)\n",
    "    \n",
    "    if arr[-1] > arr[-2]:\n",
    "        local_maximas.append(len(arr)-1)\n",
    "    \n",
    "    return np.array(local_maximas)\n",
    "\n",
    "a = np.array([1, 3, 7, 1, 2, 6, 0, 1])\n",
    "print(get_max(a))"
   ]
  },
  {
   "cell_type": "markdown",
   "metadata": {},
   "source": [
    "**Q8.From the given 1d array arr, generate a 2d matrix using strides, For example for an** `array ([ 0,  1,  2,  3,  4,  5,  6,  7,  8,  9, 10, 11, 12, 13, 14])` **with a window length of** `w=4` **and strides of** `s=2`, **like** `[[0,1,2,3], [2,3,4,5], [4,5,6,7]..]` **w and s will be provided by user**"
   ]
  },
  {
   "cell_type": "code",
   "execution_count": 9,
   "metadata": {},
   "outputs": [
    {
     "name": "stdout",
     "output_type": "stream",
     "text": [
      "[[ 0  1  2  3]\n",
      " [ 2  3  4  5]\n",
      " [ 4  5  6  7]\n",
      " [ 6  7  8  9]\n",
      " [ 8  9 10 11]\n",
      " [10 11 12 13]\n",
      " [12 13 14  0]\n",
      " [14  0  0  0]]\n"
     ]
    }
   ],
   "source": [
    "def get_conv(arr, w, s):\n",
    "    indices = np.arange(0, len(arr), s)\n",
    "    mat = []\n",
    "    for i in indices:\n",
    "        if i + w < len(arr):\n",
    "            mat.append(arr[i:i+w])\n",
    "        else:\n",
    "            temp = arr[i:]\n",
    "            diff = w - len(temp)\n",
    "            temp = np.concatenate((temp, np.zeros(diff, np.int64)), axis=0)\n",
    "            mat.append(temp)\n",
    "    return np.array(mat)\n",
    "\n",
    "a = np.array([ 0,  1,  2,  3,  4,  5,  6,  7,  8,  9, 10, 11, 12, 13, 14])\n",
    "print(get_conv(a, 4, 2))"
   ]
  }
 ],
 "metadata": {
  "kernelspec": {
   "display_name": "Python 2",
   "language": "python",
   "name": "python2"
  },
  "language_info": {
   "codemirror_mode": {
    "name": "ipython",
    "version": 2
   },
   "file_extension": ".py",
   "mimetype": "text/x-python",
   "name": "python",
   "nbconvert_exporter": "python",
   "pygments_lexer": "ipython2",
   "version": "2.7.15"
  }
 },
 "nbformat": 4,
 "nbformat_minor": 2
}
