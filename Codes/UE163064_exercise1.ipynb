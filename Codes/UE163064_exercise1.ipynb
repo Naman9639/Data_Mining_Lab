{
 "cells": [
  {
   "cell_type": "markdown",
   "metadata": {},
   "source": [
    "### Running the expression in the console\n"
   ]
  },
  {
   "cell_type": "code",
   "execution_count": 1,
   "metadata": {},
   "outputs": [
    {
     "data": {
      "text/plain": [
       "25"
      ]
     },
     "execution_count": 1,
     "metadata": {},
     "output_type": "execute_result"
    }
   ],
   "source": [
    "10 + 15"
   ]
  },
  {
   "cell_type": "code",
   "execution_count": 2,
   "metadata": {},
   "outputs": [
    {
     "name": "stdout",
     "output_type": "stream",
     "text": [
      "Hello World\n"
     ]
    }
   ],
   "source": [
    "print(\"Hello World\")"
   ]
  },
  {
   "cell_type": "code",
   "execution_count": 3,
   "metadata": {},
   "outputs": [
    {
     "data": {
      "text/plain": [
       "11"
      ]
     },
     "execution_count": 3,
     "metadata": {},
     "output_type": "execute_result"
    }
   ],
   "source": [
    "45 - 34"
   ]
  },
  {
   "cell_type": "code",
   "execution_count": 4,
   "metadata": {},
   "outputs": [
    {
     "data": {
      "text/plain": [
       "16"
      ]
     },
     "execution_count": 4,
     "metadata": {},
     "output_type": "execute_result"
    }
   ],
   "source": [
    "8 * 2"
   ]
  },
  {
   "cell_type": "code",
   "execution_count": 5,
   "metadata": {},
   "outputs": [
    {
     "name": "stdout",
     "output_type": "stream",
     "text": [
      "(\"Rahul's age is\", 45)\n"
     ]
    }
   ],
   "source": [
    "print(\"Rahul's age is\", 45)"
   ]
  },
  {
   "cell_type": "code",
   "execution_count": 6,
   "metadata": {},
   "outputs": [
    {
     "name": "stdout",
     "output_type": "stream",
     "text": [
      "('I have', 10, 'mangoes and', 12, 'bananas')\n"
     ]
    }
   ],
   "source": [
    "print(\"I have\", 10, \"mangoes and\", 12, \"bananas\")"
   ]
  },
  {
   "cell_type": "markdown",
   "metadata": {},
   "source": [
    "### Employee Example"
   ]
  },
  {
   "cell_type": "code",
   "execution_count": 7,
   "metadata": {},
   "outputs": [
    {
     "name": "stdout",
     "output_type": "stream",
     "text": [
      "('Employee Number:', 1233)\n",
      "('Employee Salary and Name:', 16745.5, 'Jerry Squaris')\n",
      "('Updated Employee Salary:', 23450.34)\n"
     ]
    }
   ],
   "source": [
    "emp_number = 1233 \n",
    "print(\"Employee Number:\", emp_number)\n",
    "emp_salary = 16745.50\n",
    "emp_name = \"Jerry Squaris\"\n",
    "print(\"Employee Salary and Name:\", emp_salary, emp_name)\n",
    "emp_salary = 23450.34\n",
    "print(\"Updated Employee Salary:\", emp_salary)"
   ]
  },
  {
   "cell_type": "markdown",
   "metadata": {},
   "source": [
    "### Observing the Output of the following commands"
   ]
  },
  {
   "cell_type": "code",
   "execution_count": 8,
   "metadata": {},
   "outputs": [
    {
     "name": "stdout",
     "output_type": "stream",
     "text": [
      "<type 'int'>\n",
      "<type 'str'>\n",
      "<type 'float'>\n",
      "<type 'complex'>\n",
      "(101, 'John', 675.45)\n",
      "5.3\n",
      "3.9\n"
     ]
    }
   ],
   "source": [
    "customer_id = 101 \n",
    "print(type(customer_id))\n",
    "customer_name = \"John\" \n",
    "print(type(customer_name))\n",
    "bill_amount = 675.45 \n",
    "print(type(bill_amount))\n",
    "x = 5.3 + 0.9j \n",
    "print(type(x))\n",
    "print(customer_id, customer_name, bill_amount) \n",
    "print(x.real) \n",
    "print(x.imag + 3) \n",
    "Flag = True\n",
    "type(Flag)\n",
    "y = \"False\""
   ]
  },
  {
   "cell_type": "markdown",
   "metadata": {},
   "source": [
    "### In a retail application, shopkeeper wants to keep a track of following details of a customer. Write a python program to store the details and display them."
   ]
  },
  {
   "cell_type": "code",
   "execution_count": 9,
   "metadata": {},
   "outputs": [
    {
     "name": "stdout",
     "output_type": "stream",
     "text": [
      "Enter bill id: 101\n",
      "Enter customer id: 1001\n",
      "Enter customer name: Rahul\n",
      "If minor? False\n",
      "Enter bill amount: 2000.50\n",
      "('Bill ID: ', 101)\n",
      "('Cusotmer ID: ', 1001)\n",
      "('Customer Name: ', 'Rahul')\n",
      "('If Minor: ', False)\n",
      "('Bill Amount: ', 2000.5)\n"
     ]
    }
   ],
   "source": [
    "bill_id = (input(\"Enter bill id: \"))\n",
    "customer_id = (input(\"Enter customer id: \"))\n",
    "customer_name = raw_input(\"Enter customer name: \")\n",
    "if_minor = True if input(\"If minor? \") == \"True\" else False\n",
    "bill_amount = float(input(\"Enter bill amount: \"))\n",
    "print(\"Bill ID: \", bill_id)\n",
    "print(\"Cusotmer ID: \", customer_id)\n",
    "print(\"Customer Name: \", customer_name)\n",
    "print(\"If Minor: \", if_minor)\n",
    "print(\"Bill Amount: \", bill_amount)"
   ]
  },
  {
   "cell_type": "markdown",
   "metadata": {
    "collapsed": true
   },
   "source": [
    "### Python program to perform operation on two numbers\n"
   ]
  },
  {
   "cell_type": "code",
   "execution_count": 10,
   "metadata": {},
   "outputs": [
    {
     "name": "stdout",
     "output_type": "stream",
     "text": [
      "Enter first number: 10\n",
      "Enter second number: 4\n",
      "('Sum of the incremented numbers is: ', 24)\n"
     ]
    }
   ],
   "source": [
    "num1 = input(\"Enter first number: \")\n",
    "num2 = input(\"Enter second number: \")\n",
    "num1 += 4\n",
    "num2 += 6\n",
    "print('Sum of the incremented numbers is: ', num1 + num2)"
   ]
  },
  {
   "cell_type": "markdown",
   "metadata": {},
   "source": [
    "### Swapping of two numbers"
   ]
  },
  {
   "cell_type": "code",
   "execution_count": 11,
   "metadata": {},
   "outputs": [
    {
     "name": "stdout",
     "output_type": "stream",
     "text": [
      "Enter the first number: 4\n",
      "Enter the second number: 5\n",
      "Before swapping the values of a and b are\n",
      "4\n",
      "5\n",
      "After swapping the values of a and b are\n",
      "5\n",
      "4\n"
     ]
    }
   ],
   "source": [
    "a = input(\"Enter the first number: \")\n",
    "b = input(\"Enter the second number: \")\n",
    "print(\"Before swapping the values of a and b are\")\n",
    "print(a)\n",
    "print(b)\n",
    "\n",
    "a = a + b\n",
    "b = a - b\n",
    "a = a - b\n",
    "\n",
    "print(\"After swapping the values of a and b are\")\n",
    "print(a)\n",
    "print(b)"
   ]
  },
  {
   "cell_type": "markdown",
   "metadata": {},
   "source": [
    "### John's average marks"
   ]
  },
  {
   "cell_type": "markdown",
   "metadata": {},
   "source": [
    "John, the student of fifth grade takes exams in three different subjects. Create three variables to store the marks obtained by John in three subjects. Find and display the average marks scored by John. Now change the marks in one of the subjects and observe the output. Did the value of average change. Write a Python program to implement this."
   ]
  },
  {
   "cell_type": "code",
   "execution_count": 12,
   "metadata": {},
   "outputs": [
    {
     "name": "stdout",
     "output_type": "stream",
     "text": [
      "Enter marks in subject 1: 50\n",
      "Enter marks in subject 2: 60\n",
      "Enter marks in subject 3: 70\n",
      "('The average marks obtained by John are: ', 60)\n",
      "('Average marks: ', 60)\n",
      "The value of the avg_marks does not change.\n"
     ]
    }
   ],
   "source": [
    "marks_in_sub1 = input(\"Enter marks in subject 1: \")\n",
    "marks_in_sub2 = input(\"Enter marks in subject 2: \")\n",
    "marks_in_sub3 = input(\"Enter marks in subject 3: \")\n",
    "\n",
    "avg_marks =(marks_in_sub1 + marks_in_sub2 + marks_in_sub3) / 3\n",
    "\n",
    "print(\"The average marks obtained by John are: \", avg_marks)\n",
    "\n",
    "marks_in_sub1 += 10\n",
    "\n",
    "print(\"Average marks: \", avg_marks)\n",
    "\n",
    "print(\"The value of the avg_marks does not change.\")"
   ]
  },
  {
   "cell_type": "markdown",
   "metadata": {},
   "source": [
    "### Area and perimeter of the circle"
   ]
  },
  {
   "cell_type": "code",
   "execution_count": 13,
   "metadata": {},
   "outputs": [
    {
     "name": "stdout",
     "output_type": "stream",
     "text": [
      "Enter the radius of the circle: 5\n",
      "('Area of the circle is: ', 78.53981633974483)\n",
      "('Perimeter of the circle is: ', 31.41592653589793)\n"
     ]
    }
   ],
   "source": [
    "from math import pi\n",
    "radius = float(input(\"Enter the radius of the circle: \"))\n",
    "area = pi * (radius ** 2)\n",
    "print(\"Area of the circle is: \", area)\n",
    "perimeter = 2 * pi * radius\n",
    "print(\"Perimeter of the circle is: \", perimeter)"
   ]
  },
  {
   "cell_type": "markdown",
   "metadata": {},
   "source": [
    "### Salary calculations"
   ]
  },
  {
   "cell_type": "markdown",
   "metadata": {},
   "source": [
    "The finance department of a company wants to compute the monthly pay of its employees. Monthly pay should be calculated as mentioned in the formula below. Display all the employee details. \n",
    "Monthly Pay = Number of hours worked in a week x Pay rate per hour x No. of weeks in a month\n",
    "\n",
    "a. The number of hours worked by the employee in a week should be considered as 40\n",
    "\n",
    "b. Pay rate per hour should be considered as Rs.400 \n",
    "\n",
    "c. Number of weeks in a month should be considered as 4\n",
    "\n",
    "Write a Python program to implement the above real world problem. "
   ]
  },
  {
   "cell_type": "code",
   "execution_count": 14,
   "metadata": {},
   "outputs": [
    {
     "name": "stdout",
     "output_type": "stream",
     "text": [
      "('The monthly pay of the emplyee is: ', 64000)\n"
     ]
    }
   ],
   "source": [
    "def calc_salary(num_hrs_worked_week, pay_rate_per_hr, num_weeks_in_month):\n",
    "    salary = num_hrs_worked_week * pay_rate_per_hr * num_weeks_in_month\n",
    "    return(salary)\n",
    "\n",
    "Monthly_Pay = calc_salary(40, 400, 4)\n",
    "print(\"The monthly pay of the emplyee is: \", Monthly_Pay)"
   ]
  },
  {
   "cell_type": "markdown",
   "metadata": {},
   "source": [
    "### Implement the following in python"
   ]
  },
  {
   "cell_type": "markdown",
   "metadata": {},
   "source": [
    "a. Display all even numbers between 50 and 80 (both inclusive) using \"for\" loop.\n",
    "\n",
    "b. Add natural numbers up to n where n is taken as an input from user. Print the sum.\n",
    "\n",
    "c. Prompt the user to enter a number. Print whether the number is prime or not. \n",
    "\n",
    "d. Print Fibonacci series till nth term where n is taken as an input from user"
   ]
  },
  {
   "cell_type": "code",
   "execution_count": 15,
   "metadata": {},
   "outputs": [
    {
     "name": "stdout",
     "output_type": "stream",
     "text": [
      "50\n",
      "52\n",
      "54\n",
      "56\n",
      "58\n",
      "60\n",
      "62\n",
      "64\n",
      "66\n",
      "68\n",
      "70\n",
      "72\n",
      "74\n",
      "76\n",
      "78\n",
      "80\n"
     ]
    }
   ],
   "source": [
    "# Program to display even number between 50 and 80 (both inclusive)\n",
    "for i in range(50, 81, 2):\n",
    "    print(i)"
   ]
  },
  {
   "cell_type": "code",
   "execution_count": 16,
   "metadata": {},
   "outputs": [
    {
     "name": "stdout",
     "output_type": "stream",
     "text": [
      "Enter a natural number: 5\n",
      "15\n"
     ]
    }
   ],
   "source": [
    "# Program to print the sum of n natural number\n",
    "n = input(\"Enter a natural number: \")\n",
    "print(sum(range(1, n+1)))"
   ]
  },
  {
   "cell_type": "code",
   "execution_count": 17,
   "metadata": {},
   "outputs": [
    {
     "name": "stdout",
     "output_type": "stream",
     "text": [
      "Enter the number you want to check: 11\n",
      "prime number\n"
     ]
    }
   ],
   "source": [
    "# Program to check if a number is prime or not\n",
    "def prime(num):\n",
    "    for i in range(2, int(num/2)):\n",
    "        if num % i  == 0:\n",
    "            print(\"not prime number\")\n",
    "            break\n",
    "    else:\n",
    "        print(\"prime number\")\n",
    "\n",
    "num = input(\"Enter the number you want to check: \")\n",
    "prime(num)"
   ]
  },
  {
   "cell_type": "code",
   "execution_count": 18,
   "metadata": {},
   "outputs": [
    {
     "name": "stdout",
     "output_type": "stream",
     "text": [
      "Enter the number to print the fibonacci series: 4\n",
      "\n",
      "fibonacci series is:\n",
      "0\n",
      "1\n",
      "1\n",
      "2\n"
     ]
    }
   ],
   "source": [
    "# Program to print the fibonacci series till the nth term\n",
    "num = input(\"Enter the number to print the fibonacci series: \")\n",
    "\n",
    "first = 0\n",
    "second = 1\n",
    " \n",
    "print(\"\\nfibonacci series is:\")\n",
    "print(first)\n",
    "print(second)\n",
    " \n",
    "for i in range(3, num+1):\n",
    "    next_term = first + second\n",
    "    print(next_term)\n",
    "    first = second\n",
    "    second = next_term"
   ]
  },
  {
   "cell_type": "code",
   "execution_count": null,
   "metadata": {
    "collapsed": true
   },
   "outputs": [],
   "source": []
  }
 ],
 "metadata": {
  "kernelspec": {
   "display_name": "Python 2",
   "language": "python",
   "name": "python2"
  },
  "language_info": {
   "codemirror_mode": {
    "name": "ipython",
    "version": 2
   },
   "file_extension": ".py",
   "mimetype": "text/x-python",
   "name": "python",
   "nbconvert_exporter": "python",
   "pygments_lexer": "ipython2",
   "version": "2.7.15"
  }
 },
 "nbformat": 4,
 "nbformat_minor": 2
}
