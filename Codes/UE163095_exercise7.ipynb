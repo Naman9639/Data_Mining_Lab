{
 "cells": [
  {
   "cell_type": "markdown",
   "metadata": {},
   "source": [
    " <b>Opening File</b>"
   ]
  },
  {
   "cell_type": "code",
   "execution_count": 1,
   "metadata": {},
   "outputs": [],
   "source": [
    "import numpy as np\n",
    "import pandas as pd"
   ]
  },
  {
   "cell_type": "code",
   "execution_count": 2,
   "metadata": {},
   "outputs": [
    {
     "name": "stdout",
     "output_type": "stream",
     "text": [
      "Overall Rank                                                      1\n",
      "School                           California Institute of Technology\n",
      "State                                                            CA\n",
      "Undergrad. Enrollment                                           939\n",
      "Admission Rate                                                  21%\n",
      "*SAT or ACT                                                 99/100%\n",
      "Student/faculty Ratio                                             3\n",
      "4-year Grad. Rate                                               71%\n",
      "6-year Grad. Rate                                               85%\n",
      "Quality Rank                                                     10\n",
      "Total Costs                                                $32,682 \n",
      "Cost After Need-based Aid                                  $10,981 \n",
      "Need Met                                                       100%\n",
      "Aid From Grants                                                 93%\n",
      "Cost After Non-Need-Based Aid                              $18,553 \n",
      "Non-Need-Based Aid+                                             15%\n",
      "Average Debt                                               $10,244 \n",
      "Cost Rank                                                         4\n",
      "Name: 0, dtype: object\n"
     ]
    }
   ],
   "source": [
    "college = pd.read_csv(\"Top 100 Private Colleges.2003.csv\")\n",
    "print(college.loc[0])"
   ]
  },
  {
   "cell_type": "markdown",
   "metadata": {},
   "source": [
    " "
   ]
  },
  {
   "cell_type": "code",
   "execution_count": 3,
   "metadata": {},
   "outputs": [],
   "source": [
    "college = college.drop(college.index[college['Overall Rank'].isin([np.nan])])"
   ]
  },
  {
   "cell_type": "code",
   "execution_count": 4,
   "metadata": {},
   "outputs": [
    {
     "data": {
      "text/plain": [
       "Index(['Overall Rank', 'School', 'State', 'Undergrad. Enrollment',\n",
       "       'Admission Rate', '*SAT or ACT', 'Student/faculty Ratio',\n",
       "       '4-year Grad. Rate', '6-year Grad. Rate', 'Quality Rank', 'Total Costs',\n",
       "       'Cost After Need-based Aid', 'Need Met', 'Aid From Grants',\n",
       "       'Cost After Non-Need-Based Aid', 'Non-Need-Based Aid+', 'Average Debt',\n",
       "       'Cost Rank'],\n",
       "      dtype='object')"
      ]
     },
     "execution_count": 4,
     "metadata": {},
     "output_type": "execute_result"
    }
   ],
   "source": [
    "college.columns"
   ]
  },
  {
   "cell_type": "markdown",
   "metadata": {},
   "source": [
    " "
   ]
  },
  {
   "cell_type": "markdown",
   "metadata": {},
   "source": [
    "<b> List the top 10 quality ranked colleges</b>"
   ]
  },
  {
   "cell_type": "code",
   "execution_count": 6,
   "metadata": {},
   "outputs": [],
   "source": [
    "qr_data = college.sort_values(by='Quality Rank')"
   ]
  },
  {
   "cell_type": "code",
   "execution_count": 7,
   "metadata": {},
   "outputs": [
    {
     "name": "stdout",
     "output_type": "stream",
     "text": [
      "    Quality Rank  Overall Rank                                 School State\n",
      "2            1.0           3.0                       Williams College    MA\n",
      "11           2.0          12.0  Massachusetts Institute of Technology    MA\n",
      "6            3.0           7.0                        Yale University    CT\n",
      "3            4.0           4.0                     Swarthmore College    PA\n",
      "4            5.0           5.0                        Amherst College    MA\n",
      "9            6.0          10.0                    Stanford University    CA\n",
      "10           7.0          11.0                   Princeton University    NJ\n",
      "8            8.0           9.0                     Harvard University    MA\n",
      "22           9.0          23.0             University of Pennsylvania    PA\n",
      "0           10.0           1.0     California Institute of Technology    CA\n"
     ]
    }
   ],
   "source": [
    "print(qr_data.head(10).loc[:,['Quality Rank','Overall Rank','School', 'State']])"
   ]
  },
  {
   "cell_type": "markdown",
   "metadata": {},
   "source": [
    " "
   ]
  },
  {
   "cell_type": "markdown",
   "metadata": {},
   "source": [
    "<b> List all the colleges in California </b>"
   ]
  },
  {
   "cell_type": "code",
   "execution_count": 8,
   "metadata": {},
   "outputs": [
    {
     "name": "stdout",
     "output_type": "stream",
     "text": [
      "    Overall Rank                              School State Total Costs\n",
      "0            1.0  California Institute of Technology    CA    $32,682 \n",
      "9           10.0                 Stanford University    CA    $38,875 \n",
      "12          13.0                      Pomona College    CA    $38,130 \n",
      "27          28.0           Claremont McKenna College    CA    $37,730 \n",
      "51          52.0                 Harvey Mudd College    CA    $38,880 \n",
      "70          70.0   University of Southern California    CA    $37,968 \n",
      "76          76.0                     Scripps College    CA    $36,500 \n"
     ]
    }
   ],
   "source": [
    "print(college.loc[college['State'].isin(['CA']), \n",
    "                  ['Overall Rank','School','State','Total Costs']])"
   ]
  },
  {
   "cell_type": "markdown",
   "metadata": {},
   "source": [
    " "
   ]
  },
  {
   "cell_type": "markdown",
   "metadata": {},
   "source": [
    "<b> Which college has lowest average debt? </b>"
   ]
  },
  {
   "cell_type": "code",
   "execution_count": 9,
   "metadata": {},
   "outputs": [],
   "source": [
    "#function for converting Average Debt data from string to integer\n",
    "def removesymbolcurrency(x):\n",
    "    return float(x.split('$')[1].replace(\",\", \"\"))"
   ]
  },
  {
   "cell_type": "code",
   "execution_count": 10,
   "metadata": {},
   "outputs": [
    {
     "name": "stdout",
     "output_type": "stream",
     "text": [
      "    Overall Rank                            School State Average Debt\n",
      "49          50.0               Brandeis University    MA          $0 \n",
      "95          96.0                    Babson College    MA          $0 \n",
      "89          90.0           University of Rochester    NY          $0 \n",
      "72          72.0                Trinity University    TX          $0 \n",
      "53          54.0                 Bryn Mawr College    PA          $0 \n",
      "47          48.0                Macalester College    MN          $0 \n",
      "26          27.0                 Dartmouth College    NH          $0 \n",
      "25          26.0             Washington University    MO          $0 \n",
      "99         100.0  The George Washington University    DC          $0 \n"
     ]
    }
   ],
   "source": [
    "#Finding minimum value of average debt \n",
    "#Then displaying all colleges with minimum average debt\n",
    "\n",
    "avg_debt_data = college.copy()\n",
    "avg_debt_data['Average Debt'] = avg_debt_data['Average Debt'].apply(removesymbolcurrency)\n",
    "avg_debt_data = avg_debt_data.sort_values(by='Average Debt')\n",
    "\n",
    "leastval = avg_debt_data.head(1).loc[:,['Average Debt']]\n",
    "leastval = leastval.values\n",
    "print(college.loc[avg_debt_data.index[avg_debt_data['Average Debt'].isin(leastval[0])], \n",
    "                  ['Overall Rank','School','State','Average Debt']])\n"
   ]
  },
  {
   "cell_type": "markdown",
   "metadata": {},
   "source": [
    " "
   ]
  },
  {
   "cell_type": "markdown",
   "metadata": {},
   "source": [
    "<b>List bottom 10 cost rank colleges</b>"
   ]
  },
  {
   "cell_type": "code",
   "execution_count": 11,
   "metadata": {},
   "outputs": [
    {
     "name": "stdout",
     "output_type": "stream",
     "text": [
      "    Cost Rank  Overall Rank                            School State\n",
      "33       91.0          34.0                  Brown University    RI\n",
      "26       92.0          27.0                 Dartmouth College    NH\n",
      "22       93.0          23.0        University of Pennsylvania    PA\n",
      "97       94.0          98.0  Rensselaer Polytechnic Institute    NY\n",
      "40       95.0          41.0                Cornell University    NY\n",
      "99       96.0         100.0  The George Washington University    DC\n",
      "32       97.0          33.0             Georgetown University    DC\n",
      "36       98.0          37.0                Middlebury College    VT\n",
      "41       99.0          42.0               Wesleyan University    CT\n",
      "90      100.0          91.0               New York University    NY\n"
     ]
    }
   ],
   "source": [
    "cost_rank = college.sort_values(by='Cost Rank')\n",
    "print(cost_rank.tail(10).loc[:,['Cost Rank','Overall Rank','School', 'State']])"
   ]
  },
  {
   "cell_type": "markdown",
   "metadata": {},
   "source": [
    " "
   ]
  },
  {
   "cell_type": "markdown",
   "metadata": {},
   "source": [
    " <b> Among colleges having more than 2000 undergraduates, which has highest faculty/student ratio.</b>"
   ]
  },
  {
   "cell_type": "code",
   "execution_count": 12,
   "metadata": {},
   "outputs": [],
   "source": [
    "#Selecting colleges with more than 2000 enrollents\n",
    "\n",
    "more_undergraduates = college[college['Undergrad. Enrollment'] > 2000]\n",
    "\n",
    "#Selecting college with highest faculty student ratio\n",
    "\n",
    "more_undergraduates = more_undergraduates.sort_values(by='Student/faculty Ratio')\n"
   ]
  },
  {
   "cell_type": "code",
   "execution_count": 13,
   "metadata": {},
   "outputs": [
    {
     "name": "stdout",
     "output_type": "stream",
     "text": [
      "Highest faculty/student ratio\n",
      "            School  Undergrad. Enrollment  Student/faculty Ratio\n",
      "1  Rice University                 2787.0                    5.0\n",
      "\n",
      "\n",
      "Lowest faculty/student ratio\n",
      "                      School  Undergrad. Enrollment  Student/faculty Ratio\n",
      "60  Brigham Young University                29379.0                   18.0\n"
     ]
    }
   ],
   "source": [
    "#As highest faculty/Student ratio is equal to lowest student/faculty ratio\n",
    "\n",
    "print('Highest faculty/student ratio')\n",
    "print(more_undergraduates.head(1).loc[:,['School','Undergrad. Enrollment',\n",
    "                                         'Student/faculty Ratio']])\n",
    "\n",
    "print('\\n\\nLowest faculty/student ratio')\n",
    "print(more_undergraduates.tail(1).loc[:,['School','Undergrad. Enrollment',\n",
    "                                         'Student/faculty Ratio']])"
   ]
  },
  {
   "cell_type": "markdown",
   "metadata": {},
   "source": [
    " "
   ]
  },
  {
   "cell_type": "markdown",
   "metadata": {},
   "source": [
    "<b> Which college has aid in grant more than 80% and costliest in total cost?</b>"
   ]
  },
  {
   "cell_type": "code",
   "execution_count": 14,
   "metadata": {},
   "outputs": [],
   "source": [
    "#function for converting percentage data from string to integer\n",
    "def removesymbolpercent(x):\n",
    "    return float(x.split('%')[0])"
   ]
  },
  {
   "cell_type": "code",
   "execution_count": 15,
   "metadata": {},
   "outputs": [
    {
     "name": "stdout",
     "output_type": "stream",
     "text": [
      "    Overall Rank            School State Total Costs Aid From Grants\n",
      "33          34.0  Brown University    RI    $40,248              83%\n"
     ]
    }
   ],
   "source": [
    "#finding colleges with more than 80% grant\n",
    "#Then selecting costliest by total cost\n",
    "\n",
    "aid_data = college.copy()\n",
    "aid_data['Aid From Grants'] = aid_data['Aid From Grants'].apply(removesymbolpercent)\n",
    "grant_data = college.loc[aid_data['Aid From Grants'] > 80]\n",
    "\n",
    "grant_data['Total Costs'] = grant_data['Total Costs'].apply(removesymbolcurrency)\n",
    "grant_data = grant_data.sort_values(by='Total Costs')\n",
    "Maxval = grant_data.tail(1).loc[:,['Total Costs']]\n",
    "Maxval = Maxval.values\n",
    "print(college.loc[ grant_data.index[grant_data['Total Costs'].isin(Maxval[0])],\n",
    "                  ['Overall Rank','School','State','Total Costs','Aid From Grants']])"
   ]
  },
  {
   "cell_type": "markdown",
   "metadata": {},
   "source": [
    " "
   ]
  },
  {
   "cell_type": "markdown",
   "metadata": {},
   "source": [
    "<b> Among top 50 quality rank colleges, which has lowest total cost</b>"
   ]
  },
  {
   "cell_type": "code",
   "execution_count": 16,
   "metadata": {},
   "outputs": [
    {
     "name": "stdout",
     "output_type": "stream",
     "text": [
      "   Overall Rank  Quality Rank          School State  Total Costs\n",
      "5           6.0          39.0  Webb Institute    NY       8079.0\n"
     ]
    }
   ],
   "source": [
    "#Returning top 50 colleges by quality rank\n",
    "\n",
    "topqr = qr_data.head(50)\n",
    "\n",
    "topqr['Total Costs'] = topqr['Total Costs'].apply(removesymbolcurrency)\n",
    "top_data = topqr.sort_values(by='Total Costs')\n",
    "Minval = top_data.head(1).loc[:,['Total Costs']]\n",
    "Minval = Minval.values\n",
    "tdata = top_data.loc[ top_data['Total Costs'].isin(Minval[0]), \n",
    "                     ['Overall Rank','Quality Rank','School','State','Total Costs']]\n",
    "\n",
    "print(tdata)"
   ]
  },
  {
   "cell_type": "code",
   "execution_count": null,
   "metadata": {},
   "outputs": [],
   "source": []
  },
  {
   "cell_type": "code",
   "execution_count": null,
   "metadata": {},
   "outputs": [],
   "source": []
  }
 ],
 "metadata": {
  "kernelspec": {
   "display_name": "Python 3",
   "language": "python",
   "name": "python3"
  },
  "language_info": {
   "codemirror_mode": {
    "name": "ipython",
    "version": 3
   },
   "file_extension": ".py",
   "mimetype": "text/x-python",
   "name": "python",
   "nbconvert_exporter": "python",
   "pygments_lexer": "ipython3",
   "version": "3.7.1"
  }
 },
 "nbformat": 4,
 "nbformat_minor": 2
}
