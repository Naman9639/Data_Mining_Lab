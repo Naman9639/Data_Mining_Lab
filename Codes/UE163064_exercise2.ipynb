{
 "cells": [
  {
   "cell_type": "markdown",
   "metadata": {},
   "source": [
    "## Word Scrambler\n",
    "\n",
    "Make a word scrambler program to scramble every word in the file. Scrambling the word means \"keeping first and last letter intact and scramble all other letters randomly\". \n",
    "For example, if following is written in file: \" This is a  new word scrambler program. \"  Then this will be changed to : \"Tihs is a wrod srcelabmr pograrm.\" Punctuation marks won't change their position."
   ]
  },
  {
   "cell_type": "code",
   "execution_count": 1,
   "metadata": {},
   "outputs": [
    {
     "name": "stdout",
     "output_type": "stream",
     "text": [
      "Enter a string you want to scramble: This is a word scrambler program!\n",
      "Enter the 2nd string you want to scramble: Where is the  abc.doc, xyz.html file?\n",
      "\n",
      "\n",
      "Unscrambled string: \n",
      "This is a word scrambler program!\n",
      "Scrambled string: \n",
      "Tihs is a wrod smcalrebr prroagm!\n",
      "\n",
      "\n",
      "2nd input\n",
      "\n",
      "\n",
      "Unscrambled string: \n",
      "Where is the  abc.doc, xyz.html file?\n",
      "Scrambled string: \n",
      "Wehre is the  abc.doc, xyz.html file?\n"
     ]
    }
   ],
   "source": [
    "string = raw_input(\"Enter a string you want to scramble: \")\n",
    "string1 = raw_input(\"Enter the 2nd string you want to scramble: \")\n",
    "\n",
    "def scrambler(unscrambled):\n",
    "    import string, random, re\n",
    "    splitter = re.compile(r'\\s')\n",
    "    words = splitter.split(u''.join(ch for ch in unscrambled if ch not in set(string.punctuation)))\n",
    "    for word in words:\n",
    "        if len(word) < 4: \n",
    "            continue\n",
    "        mid = list(word[1:-1])\n",
    "        random.shuffle(mid)\n",
    "        scrambled = (word[0] + ''.join(mid) + word[-1])\n",
    "        unscrambled = unscrambled.replace(word, scrambled, 1)\n",
    "    \n",
    "    return unscrambled\n",
    "\n",
    "print('\\n')\n",
    "print(\"Unscrambled string: \")\n",
    "print(string)\n",
    "print(\"Scrambled string: \")\n",
    "scrambled_string = scrambler(string)\n",
    "print(scrambled_string)\n",
    "\n",
    "print(\"\\n\")\n",
    "print(\"2nd input\")\n",
    "print('\\n')\n",
    "\n",
    "print(\"Unscrambled string: \")\n",
    "print(string1)\n",
    "print(\"Scrambled string: \")\n",
    "scrambled_string = scrambler(string1)\n",
    "print(scrambled_string)"
   ]
  },
  {
   "cell_type": "code",
   "execution_count": null,
   "metadata": {
    "collapsed": true
   },
   "outputs": [],
   "source": []
  }
 ],
 "metadata": {
  "kernelspec": {
   "display_name": "Python 2",
   "language": "python",
   "name": "python2"
  },
  "language_info": {
   "codemirror_mode": {
    "name": "ipython",
    "version": 2
   },
   "file_extension": ".py",
   "mimetype": "text/x-python",
   "name": "python",
   "nbconvert_exporter": "python",
   "pygments_lexer": "ipython2",
   "version": "2.7.15"
  }
 },
 "nbformat": 4,
 "nbformat_minor": 2
}
