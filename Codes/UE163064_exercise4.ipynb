{
 "cells": [
  {
   "cell_type": "markdown",
   "metadata": {},
   "source": [
    "**Q1- Calculate Word Frequencies. Take a set of sentences in a string as an input. Count each\n",
    "unique occurrence of a word and calculate frequency of occurrence and store in a dictionary.**"
   ]
  },
  {
   "cell_type": "code",
   "execution_count": 1,
   "metadata": {},
   "outputs": [
    {
     "name": "stdout",
     "output_type": "stream",
     "text": [
      "Please enter a sentence: See how easy these sentences are? Use these simple sentences so you don’t have to worry about how to speak, and you can save your energy for impressing your boss.\n",
      "('and:', 1)\n",
      "('Use:', 1)\n",
      "('simple:', 1)\n",
      "('energy:', 1)\n",
      "('have:', 1)\n",
      "('sentences:', 2)\n",
      "('your:', 2)\n",
      "('worry:', 1)\n",
      "('for:', 1)\n",
      "('how:', 2)\n",
      "('to:', 2)\n",
      "('easy:', 1)\n",
      "('you:', 2)\n",
      "('save:', 1)\n",
      "('boss.:', 1)\n",
      "('impressing:', 1)\n",
      "('about:', 1)\n",
      "('speak,:', 1)\n",
      "('these:', 2)\n",
      "('don\\xe2\\x80\\x99t:', 1)\n",
      "('See:', 1)\n",
      "('so:', 1)\n",
      "('can:', 1)\n",
      "('are?:', 1)\n"
     ]
    }
   ],
   "source": [
    "def frequency_of_words(wordlist):\n",
    "    wordfreq = [wordlist.count(p) for p in wordlist]\n",
    "    return dict(zip(wordlist,wordfreq))\n",
    "\n",
    "wordlist = raw_input(\"Please enter a sentence: \")\n",
    "wordlist = wordlist.split()\n",
    "freq = frequency_of_words(wordlist)\n",
    "for k,v in freq.items():\n",
    "    print(k + ':', v)"
   ]
  },
  {
   "cell_type": "markdown",
   "metadata": {},
   "source": [
    "**Q2-Result Calculation. Create a dictionary and a list like following. Student = {\n",
    "’UE183001’: ’Avish’, ’UE183002’: ’Bhavya’, ’UE183003’: ’Tanya’ } Add atleast 10 students Marks\n",
    "= [(’UE183001’, ’CS’, 94 ), (’UE183002’, ’CS’, 64 ), (’UE183001’, ’RV’, 94), (’UE183002’, ’CS’, 74),\n",
    "(’UE183003’, ’CS’, 64)] Add some more values Find total marks of each students and display\n",
    "full name of student with total marks secured. This is the basic relational database join algorithm between two tables.**"
   ]
  },
  {
   "cell_type": "code",
   "execution_count": 2,
   "metadata": {},
   "outputs": [
    {
     "name": "stdout",
     "output_type": "stream",
     "text": [
      "('Tushar:', 258)\n",
      "('Yuvraj:', 270)\n",
      "('Naman:', 282)\n",
      "('Nikhil:', 276)\n",
      "('Prtik:', 288)\n",
      "('Shaswat:', 267)\n",
      "('Honey:', 285)\n",
      "('Shubham:', 264)\n"
     ]
    }
   ],
   "source": [
    "student = {'UE163064':'Naman', 'UE163065':'Nikhil',\n",
    "           'UE163068':'Honey', 'UE163074':'Prtik',\n",
    "           'UE168113':'Tushar', 'UE168119':'Yuvraj',\n",
    "           'UE163096':'Shubham', 'UE163092':'Shaswat'}\n",
    "\n",
    "marks = [('UE163064', 'CS', 94), ('UE163065', 'CS', 92),\n",
    "         ('UE163068', 'CS', 95), ('UE163074', 'CS', 96),\n",
    "         ('UE168113', 'CS', 86), ('UE168119', 'CS', 90),\n",
    "         ('UE163096', 'CS', 88), ('UE163092', 'CS', 89),\n",
    "         ('UE163064', 'RV', 94), ('UE163065', 'RV', 92),\n",
    "         ('UE163068', 'RV', 95), ('UE163074', 'RV', 96),\n",
    "         ('UE168113', 'RV', 86), ('UE168119', 'RV', 90),\n",
    "         ('UE163096', 'RV', 88), ('UE163092', 'RV', 89),\n",
    "         ('UE163064', 'AS', 94), ('UE163065', 'AS', 92),\n",
    "         ('UE163068', 'AS', 95), ('UE163074', 'AS', 96),\n",
    "         ('UE168113', 'AS', 86), ('UE168119', 'AS', 90),\n",
    "         ('UE163096', 'AS', 88), ('UE163092', 'AS', 89)]\n",
    "\n",
    "result = {}\n",
    "for s,k in student.items():\n",
    "    if s not in result:\n",
    "        result[s] = 0\n",
    "        \n",
    "for x in marks:\n",
    "    student_marks = int(x[2])\n",
    "    result[x[0]] = result[x[0]] + student_marks\n",
    "\n",
    "for k, d in result.items():\n",
    "    print(student[k] + \":\", d)"
   ]
  },
  {
   "cell_type": "markdown",
   "metadata": {},
   "source": [
    "**Q3- A date of the form 8-MAR-85 includes the name of the month, which must be translated\n",
    "to a number. Create a dict suitable for decoding month names to numbers. Create a function\n",
    "which uses string operations to split the date into 3 items using \"-\" character. Translate the\n",
    "month, correct the year to include all of the digits.The function will accept a date in the \"ddMMM-yy\" format, respond with a tuple of ( y , m , d ).**"
   ]
  },
  {
   "cell_type": "code",
   "execution_count": 3,
   "metadata": {},
   "outputs": [
    {
     "name": "stdout",
     "output_type": "stream",
     "text": [
      "Enter the date as dd-MMM-yy: 8-MAR-85\n",
      "(1985, 3, 8)\n"
     ]
    }
   ],
   "source": [
    "month = {'JAN':'01','FEB':'02','MAR':'03','APR':'04','MAY':'05','JUN':'06',\n",
    "         'JUL':'07','AUG':'08','SEP':'09','OCT':'10','NOV':'11','DEC':'12'}\n",
    "\n",
    "def get_data():\n",
    "    date = raw_input(\"Enter the date as dd-MMM-yy: \")\n",
    "    main_list = date.split('-')\n",
    "    return main_list\n",
    "\n",
    "def translate():\n",
    "    date = get_data()\n",
    "    temp_m = month[date[1]]\n",
    "    if(00 <= int(date[2]) < 20):\n",
    "        temp_y = int(date[2]) + 2000\n",
    "    else:\n",
    "        temp_y = int(date[2]) + 1900\n",
    "    result = (temp_y, int(temp_m), int(date[0]))\n",
    "    print(result)\n",
    "translate()"
   ]
  },
  {
   "cell_type": "markdown",
   "metadata": {},
   "source": [
    "**Q4- Dice Odds. There are 36 possible combinations of two dice. A simple pair of loops over\n",
    "range(6)+1 will enumerate all combinations. The sum of the two dice is more interesting than\n",
    "the actual combination. Create a dict of all combinations, using the sum of the two dice as the\n",
    "key. Each value in the dict should be a list of tuples; each tuple has the value of two dice.**"
   ]
  },
  {
   "cell_type": "code",
   "execution_count": 4,
   "metadata": {},
   "outputs": [
    {
     "name": "stdout",
     "output_type": "stream",
     "text": [
      "Sum: No. Combinations: Combinations\n",
      "('2 : ', '1 : ', [(1, 1)])\n",
      "('3 : ', '2 : ', [(1, 2), (2, 1)])\n",
      "('4 : ', '3 : ', [(1, 3), (2, 2), (3, 1)])\n",
      "('5 : ', '4 : ', [(1, 4), (2, 3), (3, 2), (4, 1)])\n",
      "('6 : ', '5 : ', [(1, 5), (2, 4), (3, 3), (4, 2), (5, 1)])\n",
      "('7 : ', '6 : ', [(1, 6), (2, 5), (3, 4), (4, 3), (5, 2), (6, 1)])\n",
      "('8 : ', '5 : ', [(2, 6), (3, 5), (4, 4), (5, 3), (6, 2)])\n",
      "('9 : ', '4 : ', [(3, 6), (4, 5), (5, 4), (6, 3)])\n",
      "('10 : ', '3 : ', [(4, 6), (5, 5), (6, 4)])\n",
      "('11 : ', '2 : ', [(5, 6), (6, 5)])\n",
      "('12 : ', '1 : ', [(6, 6)])\n"
     ]
    }
   ],
   "source": [
    "Comb = {}\n",
    "print(\"Sum: No. Combinations: Combinations\")\n",
    "for d1 in range(1,7):\n",
    "    for d2 in range(1,7):\n",
    "        temp = (d1, d2)\n",
    "        if((sum(temp)) in Comb):\n",
    "            Comb[sum(temp)].append(temp)\n",
    "        else:\n",
    "            Comb[sum(temp)] = [temp]\n",
    "for k, d in Comb.items():\n",
    "    print(str(k)+\" : \" , str(len(d))+\" : \", d)"
   ]
  },
  {
   "cell_type": "code",
   "execution_count": null,
   "metadata": {
    "collapsed": true
   },
   "outputs": [],
   "source": []
  }
 ],
 "metadata": {
  "kernelspec": {
   "display_name": "Python 2",
   "language": "python",
   "name": "python2"
  },
  "language_info": {
   "codemirror_mode": {
    "name": "ipython",
    "version": 2
   },
   "file_extension": ".py",
   "mimetype": "text/x-python",
   "name": "python",
   "nbconvert_exporter": "python",
   "pygments_lexer": "ipython2",
   "version": "2.7.15"
  }
 },
 "nbformat": 4,
 "nbformat_minor": 2
}
